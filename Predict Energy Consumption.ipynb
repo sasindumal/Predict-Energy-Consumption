{
 "cells": [
  {
   "cell_type": "markdown",
   "id": "851640ba",
   "metadata": {
    "papermill": {
     "duration": 0.007099,
     "end_time": "2025-01-09T11:35:25.003885",
     "exception": false,
     "start_time": "2025-01-09T11:35:24.996786",
     "status": "completed"
    },
    "tags": []
   },
   "source": [
    "# Predict Energy Consumption"
   ]
  },
  {
   "cell_type": "code",
   "execution_count": 1,
   "id": "f4194073",
   "metadata": {
    "execution": {
     "iopub.execute_input": "2025-01-09T11:35:25.018302Z",
     "iopub.status.busy": "2025-01-09T11:35:25.017669Z",
     "iopub.status.idle": "2025-01-09T11:35:36.346164Z",
     "shell.execute_reply": "2025-01-09T11:35:36.344984Z"
    },
    "papermill": {
     "duration": 11.338046,
     "end_time": "2025-01-09T11:35:36.348297",
     "exception": false,
     "start_time": "2025-01-09T11:35:25.010251",
     "status": "completed"
    },
    "tags": []
   },
   "outputs": [],
   "source": [
    "import pandas as pd\n",
    "from sklearn.preprocessing import StandardScaler\n",
    "from keras.models import Sequential\n",
    "from keras.layers import Dense, Input\n",
    "from keras.optimizers import Adam\n",
    "from keras.regularizers import l2\n",
    "import matplotlib.pyplot as plt\n",
    "from sklearn.metrics import mean_squared_error, r2_score\n",
    "from sklearn.model_selection import train_test_split\n",
    "from tensorflow.keras.callbacks import EarlyStopping"
   ]
  },
  {
   "cell_type": "markdown",
   "id": "d8f93e2d",
   "metadata": {
    "papermill": {
     "duration": 0.005853,
     "end_time": "2025-01-09T11:35:36.360506",
     "exception": false,
     "start_time": "2025-01-09T11:35:36.354653",
     "status": "completed"
    },
    "tags": []
   },
   "source": [
    "## Load Data"
   ]
  },
  {
   "cell_type": "code",
   "execution_count": 2,
   "id": "b8f2697c",
   "metadata": {
    "execution": {
     "iopub.execute_input": "2025-01-09T11:35:36.374192Z",
     "iopub.status.busy": "2025-01-09T11:35:36.373475Z",
     "iopub.status.idle": "2025-01-09T11:35:36.410876Z",
     "shell.execute_reply": "2025-01-09T11:35:36.409824Z"
    },
    "papermill": {
     "duration": 0.046139,
     "end_time": "2025-01-09T11:35:36.412757",
     "exception": false,
     "start_time": "2025-01-09T11:35:36.366618",
     "status": "completed"
    },
    "tags": []
   },
   "outputs": [],
   "source": [
    "#load Traning data\n",
    "df_train=pd.read_csv('/kaggle/input/predictenergyconsumptiondataset/df_train.csv')\n",
    "df_test=pd.read_csv('/kaggle/input/predictenergyconsumptiondataset/df_test.csv')"
   ]
  },
  {
   "cell_type": "code",
   "execution_count": 3,
   "id": "f8649dfb",
   "metadata": {
    "execution": {
     "iopub.execute_input": "2025-01-09T11:35:36.426428Z",
     "iopub.status.busy": "2025-01-09T11:35:36.426104Z",
     "iopub.status.idle": "2025-01-09T11:35:36.447983Z",
     "shell.execute_reply": "2025-01-09T11:35:36.446957Z"
    },
    "papermill": {
     "duration": 0.030794,
     "end_time": "2025-01-09T11:35:36.449834",
     "exception": false,
     "start_time": "2025-01-09T11:35:36.419040",
     "status": "completed"
    },
    "tags": []
   },
   "outputs": [
    {
     "data": {
      "text/html": [
       "<div>\n",
       "<style scoped>\n",
       "    .dataframe tbody tr th:only-of-type {\n",
       "        vertical-align: middle;\n",
       "    }\n",
       "\n",
       "    .dataframe tbody tr th {\n",
       "        vertical-align: top;\n",
       "    }\n",
       "\n",
       "    .dataframe thead th {\n",
       "        text-align: right;\n",
       "    }\n",
       "</style>\n",
       "<table border=\"1\" class=\"dataframe\">\n",
       "  <thead>\n",
       "    <tr style=\"text-align: right;\">\n",
       "      <th></th>\n",
       "      <th>date</th>\n",
       "      <th>power_consumption</th>\n",
       "      <th>year</th>\n",
       "      <th>semester</th>\n",
       "      <th>quarter</th>\n",
       "      <th>day_in_week</th>\n",
       "      <th>week_in_year</th>\n",
       "      <th>day_in_year</th>\n",
       "      <th>month</th>\n",
       "    </tr>\n",
       "  </thead>\n",
       "  <tbody>\n",
       "    <tr>\n",
       "      <th>0</th>\n",
       "      <td>4/1/2010</td>\n",
       "      <td>1687.440</td>\n",
       "      <td>2010</td>\n",
       "      <td>1</td>\n",
       "      <td>2</td>\n",
       "      <td>Thu</td>\n",
       "      <td>13</td>\n",
       "      <td>91</td>\n",
       "      <td>4</td>\n",
       "    </tr>\n",
       "    <tr>\n",
       "      <th>1</th>\n",
       "      <td>4/2/2010</td>\n",
       "      <td>1648.622</td>\n",
       "      <td>2010</td>\n",
       "      <td>1</td>\n",
       "      <td>2</td>\n",
       "      <td>Fri</td>\n",
       "      <td>14</td>\n",
       "      <td>92</td>\n",
       "      <td>4</td>\n",
       "    </tr>\n",
       "    <tr>\n",
       "      <th>2</th>\n",
       "      <td>4/3/2010</td>\n",
       "      <td>1805.278</td>\n",
       "      <td>2010</td>\n",
       "      <td>1</td>\n",
       "      <td>2</td>\n",
       "      <td>Sat</td>\n",
       "      <td>14</td>\n",
       "      <td>93</td>\n",
       "      <td>4</td>\n",
       "    </tr>\n",
       "    <tr>\n",
       "      <th>3</th>\n",
       "      <td>4/4/2010</td>\n",
       "      <td>1690.388</td>\n",
       "      <td>2010</td>\n",
       "      <td>1</td>\n",
       "      <td>2</td>\n",
       "      <td>Sun</td>\n",
       "      <td>14</td>\n",
       "      <td>94</td>\n",
       "      <td>4</td>\n",
       "    </tr>\n",
       "    <tr>\n",
       "      <th>4</th>\n",
       "      <td>4/5/2010</td>\n",
       "      <td>1118.820</td>\n",
       "      <td>2010</td>\n",
       "      <td>1</td>\n",
       "      <td>2</td>\n",
       "      <td>Mon</td>\n",
       "      <td>14</td>\n",
       "      <td>95</td>\n",
       "      <td>4</td>\n",
       "    </tr>\n",
       "  </tbody>\n",
       "</table>\n",
       "</div>"
      ],
      "text/plain": [
       "       date  power_consumption  year  semester  quarter day_in_week  \\\n",
       "0  4/1/2010           1687.440  2010         1        2         Thu   \n",
       "1  4/2/2010           1648.622  2010         1        2         Fri   \n",
       "2  4/3/2010           1805.278  2010         1        2         Sat   \n",
       "3  4/4/2010           1690.388  2010         1        2         Sun   \n",
       "4  4/5/2010           1118.820  2010         1        2         Mon   \n",
       "\n",
       "   week_in_year  day_in_year  month  \n",
       "0            13           91      4  \n",
       "1            14           92      4  \n",
       "2            14           93      4  \n",
       "3            14           94      4  \n",
       "4            14           95      4  "
      ]
     },
     "execution_count": 3,
     "metadata": {},
     "output_type": "execute_result"
    }
   ],
   "source": [
    "df_train.head()\n",
    "df_test.head()"
   ]
  },
  {
   "cell_type": "markdown",
   "id": "1f226402",
   "metadata": {
    "papermill": {
     "duration": 0.005937,
     "end_time": "2025-01-09T11:35:36.462291",
     "exception": false,
     "start_time": "2025-01-09T11:35:36.456354",
     "status": "completed"
    },
    "tags": []
   },
   "source": [
    "## Data Cleaning"
   ]
  },
  {
   "cell_type": "markdown",
   "id": "cd26c8dd",
   "metadata": {
    "papermill": {
     "duration": 0.005924,
     "end_time": "2025-01-09T11:35:36.474346",
     "exception": false,
     "start_time": "2025-01-09T11:35:36.468422",
     "status": "completed"
    },
    "tags": []
   },
   "source": [
    "Convert the class of the date column from \"character\" to \"Date\", and the class of day_in_week column from character to factor for both datasets. Create indicator variables for factor columns"
   ]
  },
  {
   "cell_type": "code",
   "execution_count": 4,
   "id": "d4e6e732",
   "metadata": {
    "execution": {
     "iopub.execute_input": "2025-01-09T11:35:36.487918Z",
     "iopub.status.busy": "2025-01-09T11:35:36.487500Z",
     "iopub.status.idle": "2025-01-09T11:35:36.493036Z",
     "shell.execute_reply": "2025-01-09T11:35:36.492002Z"
    },
    "papermill": {
     "duration": 0.014279,
     "end_time": "2025-01-09T11:35:36.494681",
     "exception": false,
     "start_time": "2025-01-09T11:35:36.480402",
     "status": "completed"
    },
    "tags": []
   },
   "outputs": [
    {
     "name": "stdout",
     "output_type": "stream",
     "text": [
      "object\n"
     ]
    }
   ],
   "source": [
    "# Check the current data type of the 'date' column\n",
    "print(df_train['date'].dtype)"
   ]
  },
  {
   "cell_type": "code",
   "execution_count": 5,
   "id": "4b0faa68",
   "metadata": {
    "execution": {
     "iopub.execute_input": "2025-01-09T11:35:36.508620Z",
     "iopub.status.busy": "2025-01-09T11:35:36.508249Z",
     "iopub.status.idle": "2025-01-09T11:35:36.524356Z",
     "shell.execute_reply": "2025-01-09T11:35:36.523166Z"
    },
    "papermill": {
     "duration": 0.025027,
     "end_time": "2025-01-09T11:35:36.526103",
     "exception": false,
     "start_time": "2025-01-09T11:35:36.501076",
     "status": "completed"
    },
    "tags": []
   },
   "outputs": [],
   "source": [
    "# Convert 'date' column to datetime\n",
    "df_train['date'] = pd.to_datetime(df_train['date'], format='%m/%d/%Y')\n",
    "df_test['date'] = pd.to_datetime(df_test['date'], format='%m/%d/%Y')"
   ]
  },
  {
   "cell_type": "code",
   "execution_count": 6,
   "id": "0e7a9531",
   "metadata": {
    "execution": {
     "iopub.execute_input": "2025-01-09T11:35:36.539917Z",
     "iopub.status.busy": "2025-01-09T11:35:36.539505Z",
     "iopub.status.idle": "2025-01-09T11:35:36.554875Z",
     "shell.execute_reply": "2025-01-09T11:35:36.553780Z"
    },
    "papermill": {
     "duration": 0.024011,
     "end_time": "2025-01-09T11:35:36.556531",
     "exception": false,
     "start_time": "2025-01-09T11:35:36.532520",
     "status": "completed"
    },
    "tags": []
   },
   "outputs": [
    {
     "name": "stdout",
     "output_type": "stream",
     "text": [
      "object\n",
      "object\n"
     ]
    }
   ],
   "source": [
    "# Check the current data type of the 'day_in_week' column\n",
    "print(df_train['day_in_week'].dtype) \n",
    "print(df_test['day_in_week'].dtype) \n",
    "\n",
    "# Convert 'day_in_week' column to factor (categorical) type\n",
    "df_train['day_in_week'] = pd.Categorical(df_train['day_in_week'])\n",
    "df_test['day_in_week'] = pd.Categorical(df_test['day_in_week'])"
   ]
  },
  {
   "cell_type": "code",
   "execution_count": 7,
   "id": "b0fed0f6",
   "metadata": {
    "execution": {
     "iopub.execute_input": "2025-01-09T11:35:36.571037Z",
     "iopub.status.busy": "2025-01-09T11:35:36.570629Z",
     "iopub.status.idle": "2025-01-09T11:35:36.585572Z",
     "shell.execute_reply": "2025-01-09T11:35:36.584552Z"
    },
    "papermill": {
     "duration": 0.024013,
     "end_time": "2025-01-09T11:35:36.587122",
     "exception": false,
     "start_time": "2025-01-09T11:35:36.563109",
     "status": "completed"
    },
    "tags": []
   },
   "outputs": [
    {
     "data": {
      "text/html": [
       "<div>\n",
       "<style scoped>\n",
       "    .dataframe tbody tr th:only-of-type {\n",
       "        vertical-align: middle;\n",
       "    }\n",
       "\n",
       "    .dataframe tbody tr th {\n",
       "        vertical-align: top;\n",
       "    }\n",
       "\n",
       "    .dataframe thead th {\n",
       "        text-align: right;\n",
       "    }\n",
       "</style>\n",
       "<table border=\"1\" class=\"dataframe\">\n",
       "  <thead>\n",
       "    <tr style=\"text-align: right;\">\n",
       "      <th></th>\n",
       "      <th>date</th>\n",
       "      <th>power_consumption</th>\n",
       "      <th>year</th>\n",
       "      <th>semester</th>\n",
       "      <th>quarter</th>\n",
       "      <th>day_in_week</th>\n",
       "      <th>week_in_year</th>\n",
       "      <th>day_in_year</th>\n",
       "      <th>month</th>\n",
       "    </tr>\n",
       "  </thead>\n",
       "  <tbody>\n",
       "    <tr>\n",
       "      <th>0</th>\n",
       "      <td>2006-12-16</td>\n",
       "      <td>1209.176</td>\n",
       "      <td>2006</td>\n",
       "      <td>2</td>\n",
       "      <td>4</td>\n",
       "      <td>Sat</td>\n",
       "      <td>50</td>\n",
       "      <td>350</td>\n",
       "      <td>12</td>\n",
       "    </tr>\n",
       "    <tr>\n",
       "      <th>1</th>\n",
       "      <td>2006-12-17</td>\n",
       "      <td>3390.460</td>\n",
       "      <td>2006</td>\n",
       "      <td>2</td>\n",
       "      <td>4</td>\n",
       "      <td>Sun</td>\n",
       "      <td>51</td>\n",
       "      <td>351</td>\n",
       "      <td>12</td>\n",
       "    </tr>\n",
       "    <tr>\n",
       "      <th>2</th>\n",
       "      <td>2006-12-18</td>\n",
       "      <td>2203.826</td>\n",
       "      <td>2006</td>\n",
       "      <td>2</td>\n",
       "      <td>4</td>\n",
       "      <td>Mon</td>\n",
       "      <td>51</td>\n",
       "      <td>352</td>\n",
       "      <td>12</td>\n",
       "    </tr>\n",
       "    <tr>\n",
       "      <th>3</th>\n",
       "      <td>2006-12-19</td>\n",
       "      <td>1666.194</td>\n",
       "      <td>2006</td>\n",
       "      <td>2</td>\n",
       "      <td>4</td>\n",
       "      <td>Tue</td>\n",
       "      <td>51</td>\n",
       "      <td>353</td>\n",
       "      <td>12</td>\n",
       "    </tr>\n",
       "    <tr>\n",
       "      <th>4</th>\n",
       "      <td>2006-12-20</td>\n",
       "      <td>2225.748</td>\n",
       "      <td>2006</td>\n",
       "      <td>2</td>\n",
       "      <td>4</td>\n",
       "      <td>Wed</td>\n",
       "      <td>51</td>\n",
       "      <td>354</td>\n",
       "      <td>12</td>\n",
       "    </tr>\n",
       "  </tbody>\n",
       "</table>\n",
       "</div>"
      ],
      "text/plain": [
       "        date  power_consumption  year  semester  quarter day_in_week  \\\n",
       "0 2006-12-16           1209.176  2006         2        4         Sat   \n",
       "1 2006-12-17           3390.460  2006         2        4         Sun   \n",
       "2 2006-12-18           2203.826  2006         2        4         Mon   \n",
       "3 2006-12-19           1666.194  2006         2        4         Tue   \n",
       "4 2006-12-20           2225.748  2006         2        4         Wed   \n",
       "\n",
       "   week_in_year  day_in_year  month  \n",
       "0            50          350     12  \n",
       "1            51          351     12  \n",
       "2            51          352     12  \n",
       "3            51          353     12  \n",
       "4            51          354     12  "
      ]
     },
     "execution_count": 7,
     "metadata": {},
     "output_type": "execute_result"
    }
   ],
   "source": [
    "df_train.head()"
   ]
  },
  {
   "cell_type": "code",
   "execution_count": 8,
   "id": "419e0f4a",
   "metadata": {
    "execution": {
     "iopub.execute_input": "2025-01-09T11:35:36.601583Z",
     "iopub.status.busy": "2025-01-09T11:35:36.601251Z",
     "iopub.status.idle": "2025-01-09T11:35:36.613085Z",
     "shell.execute_reply": "2025-01-09T11:35:36.612083Z"
    },
    "papermill": {
     "duration": 0.021011,
     "end_time": "2025-01-09T11:35:36.614865",
     "exception": false,
     "start_time": "2025-01-09T11:35:36.593854",
     "status": "completed"
    },
    "tags": []
   },
   "outputs": [],
   "source": [
    "df_train_one_hot = pd.get_dummies(df_train, columns=['day_in_week'])\n",
    "df_test_one_hot = pd.get_dummies(df_test, columns=['day_in_week'])"
   ]
  },
  {
   "cell_type": "code",
   "execution_count": 9,
   "id": "c7b1c781",
   "metadata": {
    "execution": {
     "iopub.execute_input": "2025-01-09T11:35:36.629059Z",
     "iopub.status.busy": "2025-01-09T11:35:36.628659Z",
     "iopub.status.idle": "2025-01-09T11:35:36.643043Z",
     "shell.execute_reply": "2025-01-09T11:35:36.642010Z"
    },
    "papermill": {
     "duration": 0.023449,
     "end_time": "2025-01-09T11:35:36.644870",
     "exception": false,
     "start_time": "2025-01-09T11:35:36.621421",
     "status": "completed"
    },
    "tags": []
   },
   "outputs": [
    {
     "data": {
      "text/html": [
       "<div>\n",
       "<style scoped>\n",
       "    .dataframe tbody tr th:only-of-type {\n",
       "        vertical-align: middle;\n",
       "    }\n",
       "\n",
       "    .dataframe tbody tr th {\n",
       "        vertical-align: top;\n",
       "    }\n",
       "\n",
       "    .dataframe thead th {\n",
       "        text-align: right;\n",
       "    }\n",
       "</style>\n",
       "<table border=\"1\" class=\"dataframe\">\n",
       "  <thead>\n",
       "    <tr style=\"text-align: right;\">\n",
       "      <th></th>\n",
       "      <th>date</th>\n",
       "      <th>power_consumption</th>\n",
       "      <th>year</th>\n",
       "      <th>semester</th>\n",
       "      <th>quarter</th>\n",
       "      <th>week_in_year</th>\n",
       "      <th>day_in_year</th>\n",
       "      <th>month</th>\n",
       "      <th>day_in_week_Fri</th>\n",
       "      <th>day_in_week_Mon</th>\n",
       "      <th>day_in_week_Sat</th>\n",
       "      <th>day_in_week_Sun</th>\n",
       "      <th>day_in_week_Thu</th>\n",
       "      <th>day_in_week_Tue</th>\n",
       "      <th>day_in_week_Wed</th>\n",
       "    </tr>\n",
       "  </thead>\n",
       "  <tbody>\n",
       "    <tr>\n",
       "      <th>0</th>\n",
       "      <td>2006-12-16</td>\n",
       "      <td>1209.176</td>\n",
       "      <td>2006</td>\n",
       "      <td>2</td>\n",
       "      <td>4</td>\n",
       "      <td>50</td>\n",
       "      <td>350</td>\n",
       "      <td>12</td>\n",
       "      <td>False</td>\n",
       "      <td>False</td>\n",
       "      <td>True</td>\n",
       "      <td>False</td>\n",
       "      <td>False</td>\n",
       "      <td>False</td>\n",
       "      <td>False</td>\n",
       "    </tr>\n",
       "    <tr>\n",
       "      <th>1</th>\n",
       "      <td>2006-12-17</td>\n",
       "      <td>3390.460</td>\n",
       "      <td>2006</td>\n",
       "      <td>2</td>\n",
       "      <td>4</td>\n",
       "      <td>51</td>\n",
       "      <td>351</td>\n",
       "      <td>12</td>\n",
       "      <td>False</td>\n",
       "      <td>False</td>\n",
       "      <td>False</td>\n",
       "      <td>True</td>\n",
       "      <td>False</td>\n",
       "      <td>False</td>\n",
       "      <td>False</td>\n",
       "    </tr>\n",
       "    <tr>\n",
       "      <th>2</th>\n",
       "      <td>2006-12-18</td>\n",
       "      <td>2203.826</td>\n",
       "      <td>2006</td>\n",
       "      <td>2</td>\n",
       "      <td>4</td>\n",
       "      <td>51</td>\n",
       "      <td>352</td>\n",
       "      <td>12</td>\n",
       "      <td>False</td>\n",
       "      <td>True</td>\n",
       "      <td>False</td>\n",
       "      <td>False</td>\n",
       "      <td>False</td>\n",
       "      <td>False</td>\n",
       "      <td>False</td>\n",
       "    </tr>\n",
       "    <tr>\n",
       "      <th>3</th>\n",
       "      <td>2006-12-19</td>\n",
       "      <td>1666.194</td>\n",
       "      <td>2006</td>\n",
       "      <td>2</td>\n",
       "      <td>4</td>\n",
       "      <td>51</td>\n",
       "      <td>353</td>\n",
       "      <td>12</td>\n",
       "      <td>False</td>\n",
       "      <td>False</td>\n",
       "      <td>False</td>\n",
       "      <td>False</td>\n",
       "      <td>False</td>\n",
       "      <td>True</td>\n",
       "      <td>False</td>\n",
       "    </tr>\n",
       "    <tr>\n",
       "      <th>4</th>\n",
       "      <td>2006-12-20</td>\n",
       "      <td>2225.748</td>\n",
       "      <td>2006</td>\n",
       "      <td>2</td>\n",
       "      <td>4</td>\n",
       "      <td>51</td>\n",
       "      <td>354</td>\n",
       "      <td>12</td>\n",
       "      <td>False</td>\n",
       "      <td>False</td>\n",
       "      <td>False</td>\n",
       "      <td>False</td>\n",
       "      <td>False</td>\n",
       "      <td>False</td>\n",
       "      <td>True</td>\n",
       "    </tr>\n",
       "  </tbody>\n",
       "</table>\n",
       "</div>"
      ],
      "text/plain": [
       "        date  power_consumption  year  semester  quarter  week_in_year  \\\n",
       "0 2006-12-16           1209.176  2006         2        4            50   \n",
       "1 2006-12-17           3390.460  2006         2        4            51   \n",
       "2 2006-12-18           2203.826  2006         2        4            51   \n",
       "3 2006-12-19           1666.194  2006         2        4            51   \n",
       "4 2006-12-20           2225.748  2006         2        4            51   \n",
       "\n",
       "   day_in_year  month  day_in_week_Fri  day_in_week_Mon  day_in_week_Sat  \\\n",
       "0          350     12            False            False             True   \n",
       "1          351     12            False            False            False   \n",
       "2          352     12            False             True            False   \n",
       "3          353     12            False            False            False   \n",
       "4          354     12            False            False            False   \n",
       "\n",
       "   day_in_week_Sun  day_in_week_Thu  day_in_week_Tue  day_in_week_Wed  \n",
       "0            False            False            False            False  \n",
       "1             True            False            False            False  \n",
       "2            False            False            False            False  \n",
       "3            False            False             True            False  \n",
       "4            False            False            False             True  "
      ]
     },
     "execution_count": 9,
     "metadata": {},
     "output_type": "execute_result"
    }
   ],
   "source": [
    "df_train_one_hot.head()"
   ]
  },
  {
   "cell_type": "code",
   "execution_count": 10,
   "id": "de6c2474",
   "metadata": {
    "execution": {
     "iopub.execute_input": "2025-01-09T11:35:36.660226Z",
     "iopub.status.busy": "2025-01-09T11:35:36.659895Z",
     "iopub.status.idle": "2025-01-09T11:35:36.665415Z",
     "shell.execute_reply": "2025-01-09T11:35:36.664553Z"
    },
    "papermill": {
     "duration": 0.014885,
     "end_time": "2025-01-09T11:35:36.667014",
     "exception": false,
     "start_time": "2025-01-09T11:35:36.652129",
     "status": "completed"
    },
    "tags": []
   },
   "outputs": [
    {
     "data": {
      "text/plain": [
       "(1202, 15)"
      ]
     },
     "execution_count": 10,
     "metadata": {},
     "output_type": "execute_result"
    }
   ],
   "source": [
    "df_train_one_hot.shape"
   ]
  },
  {
   "cell_type": "code",
   "execution_count": 11,
   "id": "25c25aa8",
   "metadata": {
    "execution": {
     "iopub.execute_input": "2025-01-09T11:35:36.681782Z",
     "iopub.status.busy": "2025-01-09T11:35:36.681334Z",
     "iopub.status.idle": "2025-01-09T11:35:36.714510Z",
     "shell.execute_reply": "2025-01-09T11:35:36.713454Z"
    },
    "papermill": {
     "duration": 0.042633,
     "end_time": "2025-01-09T11:35:36.716516",
     "exception": false,
     "start_time": "2025-01-09T11:35:36.673883",
     "status": "completed"
    },
    "tags": []
   },
   "outputs": [
    {
     "data": {
      "text/html": [
       "<div>\n",
       "<style scoped>\n",
       "    .dataframe tbody tr th:only-of-type {\n",
       "        vertical-align: middle;\n",
       "    }\n",
       "\n",
       "    .dataframe tbody tr th {\n",
       "        vertical-align: top;\n",
       "    }\n",
       "\n",
       "    .dataframe thead th {\n",
       "        text-align: right;\n",
       "    }\n",
       "</style>\n",
       "<table border=\"1\" class=\"dataframe\">\n",
       "  <thead>\n",
       "    <tr style=\"text-align: right;\">\n",
       "      <th></th>\n",
       "      <th>date</th>\n",
       "      <th>power_consumption</th>\n",
       "      <th>year</th>\n",
       "      <th>semester</th>\n",
       "      <th>quarter</th>\n",
       "      <th>week_in_year</th>\n",
       "      <th>day_in_year</th>\n",
       "      <th>month</th>\n",
       "    </tr>\n",
       "  </thead>\n",
       "  <tbody>\n",
       "    <tr>\n",
       "      <th>count</th>\n",
       "      <td>1202</td>\n",
       "      <td>1202.000000</td>\n",
       "      <td>1202.000000</td>\n",
       "      <td>1202.000000</td>\n",
       "      <td>1202.000000</td>\n",
       "      <td>1202.000000</td>\n",
       "      <td>1202.000000</td>\n",
       "      <td>1202.000000</td>\n",
       "    </tr>\n",
       "    <tr>\n",
       "      <th>mean</th>\n",
       "      <td>2008-08-07 12:00:00</td>\n",
       "      <td>1592.959253</td>\n",
       "      <td>2008.123128</td>\n",
       "      <td>1.472546</td>\n",
       "      <td>2.415141</td>\n",
       "      <td>25.455907</td>\n",
       "      <td>175.179700</td>\n",
       "      <td>6.256240</td>\n",
       "    </tr>\n",
       "    <tr>\n",
       "      <th>min</th>\n",
       "      <td>2006-12-16 00:00:00</td>\n",
       "      <td>0.000000</td>\n",
       "      <td>2006.000000</td>\n",
       "      <td>1.000000</td>\n",
       "      <td>1.000000</td>\n",
       "      <td>1.000000</td>\n",
       "      <td>1.000000</td>\n",
       "      <td>1.000000</td>\n",
       "    </tr>\n",
       "    <tr>\n",
       "      <th>25%</th>\n",
       "      <td>2007-10-12 06:00:00</td>\n",
       "      <td>1179.841500</td>\n",
       "      <td>2007.000000</td>\n",
       "      <td>1.000000</td>\n",
       "      <td>1.000000</td>\n",
       "      <td>11.000000</td>\n",
       "      <td>76.000000</td>\n",
       "      <td>3.000000</td>\n",
       "    </tr>\n",
       "    <tr>\n",
       "      <th>50%</th>\n",
       "      <td>2008-08-07 12:00:00</td>\n",
       "      <td>1583.971000</td>\n",
       "      <td>2008.000000</td>\n",
       "      <td>1.000000</td>\n",
       "      <td>2.000000</td>\n",
       "      <td>25.000000</td>\n",
       "      <td>171.000000</td>\n",
       "      <td>6.000000</td>\n",
       "    </tr>\n",
       "    <tr>\n",
       "      <th>75%</th>\n",
       "      <td>2009-06-03 18:00:00</td>\n",
       "      <td>1952.951500</td>\n",
       "      <td>2009.000000</td>\n",
       "      <td>2.000000</td>\n",
       "      <td>3.000000</td>\n",
       "      <td>39.000000</td>\n",
       "      <td>271.000000</td>\n",
       "      <td>9.000000</td>\n",
       "    </tr>\n",
       "    <tr>\n",
       "      <th>max</th>\n",
       "      <td>2010-03-31 00:00:00</td>\n",
       "      <td>4773.386000</td>\n",
       "      <td>2010.000000</td>\n",
       "      <td>2.000000</td>\n",
       "      <td>4.000000</td>\n",
       "      <td>53.000000</td>\n",
       "      <td>366.000000</td>\n",
       "      <td>12.000000</td>\n",
       "    </tr>\n",
       "    <tr>\n",
       "      <th>std</th>\n",
       "      <td>NaN</td>\n",
       "      <td>632.497568</td>\n",
       "      <td>0.972467</td>\n",
       "      <td>0.499453</td>\n",
       "      <td>1.153442</td>\n",
       "      <td>15.623968</td>\n",
       "      <td>109.371519</td>\n",
       "      <td>3.573317</td>\n",
       "    </tr>\n",
       "  </tbody>\n",
       "</table>\n",
       "</div>"
      ],
      "text/plain": [
       "                      date  power_consumption         year     semester  \\\n",
       "count                 1202        1202.000000  1202.000000  1202.000000   \n",
       "mean   2008-08-07 12:00:00        1592.959253  2008.123128     1.472546   \n",
       "min    2006-12-16 00:00:00           0.000000  2006.000000     1.000000   \n",
       "25%    2007-10-12 06:00:00        1179.841500  2007.000000     1.000000   \n",
       "50%    2008-08-07 12:00:00        1583.971000  2008.000000     1.000000   \n",
       "75%    2009-06-03 18:00:00        1952.951500  2009.000000     2.000000   \n",
       "max    2010-03-31 00:00:00        4773.386000  2010.000000     2.000000   \n",
       "std                    NaN         632.497568     0.972467     0.499453   \n",
       "\n",
       "           quarter  week_in_year  day_in_year        month  \n",
       "count  1202.000000   1202.000000  1202.000000  1202.000000  \n",
       "mean      2.415141     25.455907   175.179700     6.256240  \n",
       "min       1.000000      1.000000     1.000000     1.000000  \n",
       "25%       1.000000     11.000000    76.000000     3.000000  \n",
       "50%       2.000000     25.000000   171.000000     6.000000  \n",
       "75%       3.000000     39.000000   271.000000     9.000000  \n",
       "max       4.000000     53.000000   366.000000    12.000000  \n",
       "std       1.153442     15.623968   109.371519     3.573317  "
      ]
     },
     "execution_count": 11,
     "metadata": {},
     "output_type": "execute_result"
    }
   ],
   "source": [
    "df_train_one_hot.describe()"
   ]
  },
  {
   "cell_type": "code",
   "execution_count": 12,
   "id": "71d05542",
   "metadata": {
    "execution": {
     "iopub.execute_input": "2025-01-09T11:35:36.732971Z",
     "iopub.status.busy": "2025-01-09T11:35:36.732551Z",
     "iopub.status.idle": "2025-01-09T11:35:36.741010Z",
     "shell.execute_reply": "2025-01-09T11:35:36.739866Z"
    },
    "papermill": {
     "duration": 0.018052,
     "end_time": "2025-01-09T11:35:36.742871",
     "exception": false,
     "start_time": "2025-01-09T11:35:36.724819",
     "status": "completed"
    },
    "tags": []
   },
   "outputs": [
    {
     "data": {
      "text/plain": [
       "date                 0\n",
       "power_consumption    0\n",
       "year                 0\n",
       "semester             0\n",
       "quarter              0\n",
       "week_in_year         0\n",
       "day_in_year          0\n",
       "month                0\n",
       "day_in_week_Fri      0\n",
       "day_in_week_Mon      0\n",
       "day_in_week_Sat      0\n",
       "day_in_week_Sun      0\n",
       "day_in_week_Thu      0\n",
       "day_in_week_Tue      0\n",
       "day_in_week_Wed      0\n",
       "dtype: int64"
      ]
     },
     "execution_count": 12,
     "metadata": {},
     "output_type": "execute_result"
    }
   ],
   "source": [
    "df_train_one_hot.isnull().sum()"
   ]
  },
  {
   "cell_type": "code",
   "execution_count": 13,
   "id": "1f145d50",
   "metadata": {
    "execution": {
     "iopub.execute_input": "2025-01-09T11:35:36.759019Z",
     "iopub.status.busy": "2025-01-09T11:35:36.758620Z",
     "iopub.status.idle": "2025-01-09T11:35:36.765959Z",
     "shell.execute_reply": "2025-01-09T11:35:36.764961Z"
    },
    "papermill": {
     "duration": 0.017338,
     "end_time": "2025-01-09T11:35:36.767498",
     "exception": false,
     "start_time": "2025-01-09T11:35:36.750160",
     "status": "completed"
    },
    "tags": []
   },
   "outputs": [
    {
     "data": {
      "text/plain": [
       "date                 0\n",
       "power_consumption    0\n",
       "year                 0\n",
       "semester             0\n",
       "quarter              0\n",
       "week_in_year         0\n",
       "day_in_year          0\n",
       "month                0\n",
       "day_in_week_Fri      0\n",
       "day_in_week_Mon      0\n",
       "day_in_week_Sat      0\n",
       "day_in_week_Sun      0\n",
       "day_in_week_Thu      0\n",
       "day_in_week_Tue      0\n",
       "day_in_week_Wed      0\n",
       "dtype: int64"
      ]
     },
     "execution_count": 13,
     "metadata": {},
     "output_type": "execute_result"
    }
   ],
   "source": [
    "df_test_one_hot.isnull().sum()"
   ]
  },
  {
   "cell_type": "markdown",
   "id": "e7e17799",
   "metadata": {
    "papermill": {
     "duration": 0.008998,
     "end_time": "2025-01-09T11:35:36.784820",
     "exception": false,
     "start_time": "2025-01-09T11:35:36.775822",
     "status": "completed"
    },
    "tags": []
   },
   "source": [
    "## Prepare training and testing data for modeling"
   ]
  },
  {
   "cell_type": "code",
   "execution_count": 14,
   "id": "f9a48d19",
   "metadata": {
    "execution": {
     "iopub.execute_input": "2025-01-09T11:35:36.802855Z",
     "iopub.status.busy": "2025-01-09T11:35:36.802486Z",
     "iopub.status.idle": "2025-01-09T11:35:36.825466Z",
     "shell.execute_reply": "2025-01-09T11:35:36.824161Z"
    },
    "papermill": {
     "duration": 0.034099,
     "end_time": "2025-01-09T11:35:36.827503",
     "exception": false,
     "start_time": "2025-01-09T11:35:36.793404",
     "status": "completed"
    },
    "tags": []
   },
   "outputs": [
    {
     "data": {
      "text/html": [
       "<div>\n",
       "<style scoped>\n",
       "    .dataframe tbody tr th:only-of-type {\n",
       "        vertical-align: middle;\n",
       "    }\n",
       "\n",
       "    .dataframe tbody tr th {\n",
       "        vertical-align: top;\n",
       "    }\n",
       "\n",
       "    .dataframe thead th {\n",
       "        text-align: right;\n",
       "    }\n",
       "</style>\n",
       "<table border=\"1\" class=\"dataframe\">\n",
       "  <thead>\n",
       "    <tr style=\"text-align: right;\">\n",
       "      <th></th>\n",
       "      <th>year</th>\n",
       "      <th>semester</th>\n",
       "      <th>quarter</th>\n",
       "      <th>week_in_year</th>\n",
       "      <th>day_in_year</th>\n",
       "      <th>month</th>\n",
       "      <th>day_in_week_Fri</th>\n",
       "      <th>day_in_week_Mon</th>\n",
       "      <th>day_in_week_Sat</th>\n",
       "      <th>day_in_week_Sun</th>\n",
       "      <th>day_in_week_Thu</th>\n",
       "      <th>day_in_week_Tue</th>\n",
       "      <th>day_in_week_Wed</th>\n",
       "    </tr>\n",
       "  </thead>\n",
       "  <tbody>\n",
       "    <tr>\n",
       "      <th>0</th>\n",
       "      <td>2006</td>\n",
       "      <td>2</td>\n",
       "      <td>4</td>\n",
       "      <td>50</td>\n",
       "      <td>350</td>\n",
       "      <td>12</td>\n",
       "      <td>False</td>\n",
       "      <td>False</td>\n",
       "      <td>True</td>\n",
       "      <td>False</td>\n",
       "      <td>False</td>\n",
       "      <td>False</td>\n",
       "      <td>False</td>\n",
       "    </tr>\n",
       "    <tr>\n",
       "      <th>1</th>\n",
       "      <td>2006</td>\n",
       "      <td>2</td>\n",
       "      <td>4</td>\n",
       "      <td>51</td>\n",
       "      <td>351</td>\n",
       "      <td>12</td>\n",
       "      <td>False</td>\n",
       "      <td>False</td>\n",
       "      <td>False</td>\n",
       "      <td>True</td>\n",
       "      <td>False</td>\n",
       "      <td>False</td>\n",
       "      <td>False</td>\n",
       "    </tr>\n",
       "    <tr>\n",
       "      <th>2</th>\n",
       "      <td>2006</td>\n",
       "      <td>2</td>\n",
       "      <td>4</td>\n",
       "      <td>51</td>\n",
       "      <td>352</td>\n",
       "      <td>12</td>\n",
       "      <td>False</td>\n",
       "      <td>True</td>\n",
       "      <td>False</td>\n",
       "      <td>False</td>\n",
       "      <td>False</td>\n",
       "      <td>False</td>\n",
       "      <td>False</td>\n",
       "    </tr>\n",
       "    <tr>\n",
       "      <th>3</th>\n",
       "      <td>2006</td>\n",
       "      <td>2</td>\n",
       "      <td>4</td>\n",
       "      <td>51</td>\n",
       "      <td>353</td>\n",
       "      <td>12</td>\n",
       "      <td>False</td>\n",
       "      <td>False</td>\n",
       "      <td>False</td>\n",
       "      <td>False</td>\n",
       "      <td>False</td>\n",
       "      <td>True</td>\n",
       "      <td>False</td>\n",
       "    </tr>\n",
       "    <tr>\n",
       "      <th>4</th>\n",
       "      <td>2006</td>\n",
       "      <td>2</td>\n",
       "      <td>4</td>\n",
       "      <td>51</td>\n",
       "      <td>354</td>\n",
       "      <td>12</td>\n",
       "      <td>False</td>\n",
       "      <td>False</td>\n",
       "      <td>False</td>\n",
       "      <td>False</td>\n",
       "      <td>False</td>\n",
       "      <td>False</td>\n",
       "      <td>True</td>\n",
       "    </tr>\n",
       "    <tr>\n",
       "      <th>...</th>\n",
       "      <td>...</td>\n",
       "      <td>...</td>\n",
       "      <td>...</td>\n",
       "      <td>...</td>\n",
       "      <td>...</td>\n",
       "      <td>...</td>\n",
       "      <td>...</td>\n",
       "      <td>...</td>\n",
       "      <td>...</td>\n",
       "      <td>...</td>\n",
       "      <td>...</td>\n",
       "      <td>...</td>\n",
       "      <td>...</td>\n",
       "    </tr>\n",
       "    <tr>\n",
       "      <th>1197</th>\n",
       "      <td>2010</td>\n",
       "      <td>1</td>\n",
       "      <td>1</td>\n",
       "      <td>13</td>\n",
       "      <td>86</td>\n",
       "      <td>3</td>\n",
       "      <td>False</td>\n",
       "      <td>False</td>\n",
       "      <td>True</td>\n",
       "      <td>False</td>\n",
       "      <td>False</td>\n",
       "      <td>False</td>\n",
       "      <td>False</td>\n",
       "    </tr>\n",
       "    <tr>\n",
       "      <th>1198</th>\n",
       "      <td>2010</td>\n",
       "      <td>1</td>\n",
       "      <td>1</td>\n",
       "      <td>13</td>\n",
       "      <td>87</td>\n",
       "      <td>3</td>\n",
       "      <td>False</td>\n",
       "      <td>False</td>\n",
       "      <td>False</td>\n",
       "      <td>True</td>\n",
       "      <td>False</td>\n",
       "      <td>False</td>\n",
       "      <td>False</td>\n",
       "    </tr>\n",
       "    <tr>\n",
       "      <th>1199</th>\n",
       "      <td>2010</td>\n",
       "      <td>1</td>\n",
       "      <td>1</td>\n",
       "      <td>13</td>\n",
       "      <td>88</td>\n",
       "      <td>3</td>\n",
       "      <td>False</td>\n",
       "      <td>True</td>\n",
       "      <td>False</td>\n",
       "      <td>False</td>\n",
       "      <td>False</td>\n",
       "      <td>False</td>\n",
       "      <td>False</td>\n",
       "    </tr>\n",
       "    <tr>\n",
       "      <th>1200</th>\n",
       "      <td>2010</td>\n",
       "      <td>1</td>\n",
       "      <td>1</td>\n",
       "      <td>13</td>\n",
       "      <td>89</td>\n",
       "      <td>3</td>\n",
       "      <td>False</td>\n",
       "      <td>False</td>\n",
       "      <td>False</td>\n",
       "      <td>False</td>\n",
       "      <td>False</td>\n",
       "      <td>True</td>\n",
       "      <td>False</td>\n",
       "    </tr>\n",
       "    <tr>\n",
       "      <th>1201</th>\n",
       "      <td>2010</td>\n",
       "      <td>1</td>\n",
       "      <td>1</td>\n",
       "      <td>13</td>\n",
       "      <td>90</td>\n",
       "      <td>3</td>\n",
       "      <td>False</td>\n",
       "      <td>False</td>\n",
       "      <td>False</td>\n",
       "      <td>False</td>\n",
       "      <td>False</td>\n",
       "      <td>False</td>\n",
       "      <td>True</td>\n",
       "    </tr>\n",
       "  </tbody>\n",
       "</table>\n",
       "<p>1202 rows × 13 columns</p>\n",
       "</div>"
      ],
      "text/plain": [
       "      year  semester  quarter  week_in_year  day_in_year  month  \\\n",
       "0     2006         2        4            50          350     12   \n",
       "1     2006         2        4            51          351     12   \n",
       "2     2006         2        4            51          352     12   \n",
       "3     2006         2        4            51          353     12   \n",
       "4     2006         2        4            51          354     12   \n",
       "...    ...       ...      ...           ...          ...    ...   \n",
       "1197  2010         1        1            13           86      3   \n",
       "1198  2010         1        1            13           87      3   \n",
       "1199  2010         1        1            13           88      3   \n",
       "1200  2010         1        1            13           89      3   \n",
       "1201  2010         1        1            13           90      3   \n",
       "\n",
       "      day_in_week_Fri  day_in_week_Mon  day_in_week_Sat  day_in_week_Sun  \\\n",
       "0               False            False             True            False   \n",
       "1               False            False            False             True   \n",
       "2               False             True            False            False   \n",
       "3               False            False            False            False   \n",
       "4               False            False            False            False   \n",
       "...               ...              ...              ...              ...   \n",
       "1197            False            False             True            False   \n",
       "1198            False            False            False             True   \n",
       "1199            False             True            False            False   \n",
       "1200            False            False            False            False   \n",
       "1201            False            False            False            False   \n",
       "\n",
       "      day_in_week_Thu  day_in_week_Tue  day_in_week_Wed  \n",
       "0               False            False            False  \n",
       "1               False            False            False  \n",
       "2               False            False            False  \n",
       "3               False             True            False  \n",
       "4               False            False             True  \n",
       "...               ...              ...              ...  \n",
       "1197            False            False            False  \n",
       "1198            False            False            False  \n",
       "1199            False            False            False  \n",
       "1200            False             True            False  \n",
       "1201            False            False             True  \n",
       "\n",
       "[1202 rows x 13 columns]"
      ]
     },
     "execution_count": 14,
     "metadata": {},
     "output_type": "execute_result"
    }
   ],
   "source": [
    "# Define features and target\n",
    "X_train = df_train_one_hot.drop(['date', 'power_consumption'], axis=1)\n",
    "y_train = df_train_one_hot['power_consumption']\n",
    "\n",
    "X_test = df_train_one_hot.drop(['date', 'power_consumption'], axis=1)\n",
    "y_test = df_train_one_hot['power_consumption']\n",
    "\n",
    "X_train"
   ]
  },
  {
   "cell_type": "code",
   "execution_count": 15,
   "id": "4e7469cb",
   "metadata": {
    "execution": {
     "iopub.execute_input": "2025-01-09T11:35:36.844048Z",
     "iopub.status.busy": "2025-01-09T11:35:36.843642Z",
     "iopub.status.idle": "2025-01-09T11:35:36.859667Z",
     "shell.execute_reply": "2025-01-09T11:35:36.858617Z"
    },
    "papermill": {
     "duration": 0.026194,
     "end_time": "2025-01-09T11:35:36.861407",
     "exception": false,
     "start_time": "2025-01-09T11:35:36.835213",
     "status": "completed"
    },
    "tags": []
   },
   "outputs": [
    {
     "data": {
      "text/html": [
       "<div>\n",
       "<style scoped>\n",
       "    .dataframe tbody tr th:only-of-type {\n",
       "        vertical-align: middle;\n",
       "    }\n",
       "\n",
       "    .dataframe tbody tr th {\n",
       "        vertical-align: top;\n",
       "    }\n",
       "\n",
       "    .dataframe thead th {\n",
       "        text-align: right;\n",
       "    }\n",
       "</style>\n",
       "<table border=\"1\" class=\"dataframe\">\n",
       "  <thead>\n",
       "    <tr style=\"text-align: right;\">\n",
       "      <th></th>\n",
       "      <th>year</th>\n",
       "      <th>semester</th>\n",
       "      <th>quarter</th>\n",
       "      <th>week_in_year</th>\n",
       "      <th>day_in_year</th>\n",
       "      <th>month</th>\n",
       "      <th>day_in_week_Fri</th>\n",
       "      <th>day_in_week_Mon</th>\n",
       "      <th>day_in_week_Sat</th>\n",
       "      <th>day_in_week_Sun</th>\n",
       "      <th>day_in_week_Thu</th>\n",
       "      <th>day_in_week_Tue</th>\n",
       "      <th>day_in_week_Wed</th>\n",
       "    </tr>\n",
       "  </thead>\n",
       "  <tbody>\n",
       "    <tr>\n",
       "      <th>0</th>\n",
       "      <td>2006</td>\n",
       "      <td>2</td>\n",
       "      <td>4</td>\n",
       "      <td>50</td>\n",
       "      <td>350</td>\n",
       "      <td>12</td>\n",
       "      <td>False</td>\n",
       "      <td>False</td>\n",
       "      <td>True</td>\n",
       "      <td>False</td>\n",
       "      <td>False</td>\n",
       "      <td>False</td>\n",
       "      <td>False</td>\n",
       "    </tr>\n",
       "    <tr>\n",
       "      <th>1</th>\n",
       "      <td>2006</td>\n",
       "      <td>2</td>\n",
       "      <td>4</td>\n",
       "      <td>51</td>\n",
       "      <td>351</td>\n",
       "      <td>12</td>\n",
       "      <td>False</td>\n",
       "      <td>False</td>\n",
       "      <td>False</td>\n",
       "      <td>True</td>\n",
       "      <td>False</td>\n",
       "      <td>False</td>\n",
       "      <td>False</td>\n",
       "    </tr>\n",
       "    <tr>\n",
       "      <th>2</th>\n",
       "      <td>2006</td>\n",
       "      <td>2</td>\n",
       "      <td>4</td>\n",
       "      <td>51</td>\n",
       "      <td>352</td>\n",
       "      <td>12</td>\n",
       "      <td>False</td>\n",
       "      <td>True</td>\n",
       "      <td>False</td>\n",
       "      <td>False</td>\n",
       "      <td>False</td>\n",
       "      <td>False</td>\n",
       "      <td>False</td>\n",
       "    </tr>\n",
       "    <tr>\n",
       "      <th>3</th>\n",
       "      <td>2006</td>\n",
       "      <td>2</td>\n",
       "      <td>4</td>\n",
       "      <td>51</td>\n",
       "      <td>353</td>\n",
       "      <td>12</td>\n",
       "      <td>False</td>\n",
       "      <td>False</td>\n",
       "      <td>False</td>\n",
       "      <td>False</td>\n",
       "      <td>False</td>\n",
       "      <td>True</td>\n",
       "      <td>False</td>\n",
       "    </tr>\n",
       "    <tr>\n",
       "      <th>4</th>\n",
       "      <td>2006</td>\n",
       "      <td>2</td>\n",
       "      <td>4</td>\n",
       "      <td>51</td>\n",
       "      <td>354</td>\n",
       "      <td>12</td>\n",
       "      <td>False</td>\n",
       "      <td>False</td>\n",
       "      <td>False</td>\n",
       "      <td>False</td>\n",
       "      <td>False</td>\n",
       "      <td>False</td>\n",
       "      <td>True</td>\n",
       "    </tr>\n",
       "    <tr>\n",
       "      <th>...</th>\n",
       "      <td>...</td>\n",
       "      <td>...</td>\n",
       "      <td>...</td>\n",
       "      <td>...</td>\n",
       "      <td>...</td>\n",
       "      <td>...</td>\n",
       "      <td>...</td>\n",
       "      <td>...</td>\n",
       "      <td>...</td>\n",
       "      <td>...</td>\n",
       "      <td>...</td>\n",
       "      <td>...</td>\n",
       "      <td>...</td>\n",
       "    </tr>\n",
       "    <tr>\n",
       "      <th>1197</th>\n",
       "      <td>2010</td>\n",
       "      <td>1</td>\n",
       "      <td>1</td>\n",
       "      <td>13</td>\n",
       "      <td>86</td>\n",
       "      <td>3</td>\n",
       "      <td>False</td>\n",
       "      <td>False</td>\n",
       "      <td>True</td>\n",
       "      <td>False</td>\n",
       "      <td>False</td>\n",
       "      <td>False</td>\n",
       "      <td>False</td>\n",
       "    </tr>\n",
       "    <tr>\n",
       "      <th>1198</th>\n",
       "      <td>2010</td>\n",
       "      <td>1</td>\n",
       "      <td>1</td>\n",
       "      <td>13</td>\n",
       "      <td>87</td>\n",
       "      <td>3</td>\n",
       "      <td>False</td>\n",
       "      <td>False</td>\n",
       "      <td>False</td>\n",
       "      <td>True</td>\n",
       "      <td>False</td>\n",
       "      <td>False</td>\n",
       "      <td>False</td>\n",
       "    </tr>\n",
       "    <tr>\n",
       "      <th>1199</th>\n",
       "      <td>2010</td>\n",
       "      <td>1</td>\n",
       "      <td>1</td>\n",
       "      <td>13</td>\n",
       "      <td>88</td>\n",
       "      <td>3</td>\n",
       "      <td>False</td>\n",
       "      <td>True</td>\n",
       "      <td>False</td>\n",
       "      <td>False</td>\n",
       "      <td>False</td>\n",
       "      <td>False</td>\n",
       "      <td>False</td>\n",
       "    </tr>\n",
       "    <tr>\n",
       "      <th>1200</th>\n",
       "      <td>2010</td>\n",
       "      <td>1</td>\n",
       "      <td>1</td>\n",
       "      <td>13</td>\n",
       "      <td>89</td>\n",
       "      <td>3</td>\n",
       "      <td>False</td>\n",
       "      <td>False</td>\n",
       "      <td>False</td>\n",
       "      <td>False</td>\n",
       "      <td>False</td>\n",
       "      <td>True</td>\n",
       "      <td>False</td>\n",
       "    </tr>\n",
       "    <tr>\n",
       "      <th>1201</th>\n",
       "      <td>2010</td>\n",
       "      <td>1</td>\n",
       "      <td>1</td>\n",
       "      <td>13</td>\n",
       "      <td>90</td>\n",
       "      <td>3</td>\n",
       "      <td>False</td>\n",
       "      <td>False</td>\n",
       "      <td>False</td>\n",
       "      <td>False</td>\n",
       "      <td>False</td>\n",
       "      <td>False</td>\n",
       "      <td>True</td>\n",
       "    </tr>\n",
       "  </tbody>\n",
       "</table>\n",
       "<p>1202 rows × 13 columns</p>\n",
       "</div>"
      ],
      "text/plain": [
       "      year  semester  quarter  week_in_year  day_in_year  month  \\\n",
       "0     2006         2        4            50          350     12   \n",
       "1     2006         2        4            51          351     12   \n",
       "2     2006         2        4            51          352     12   \n",
       "3     2006         2        4            51          353     12   \n",
       "4     2006         2        4            51          354     12   \n",
       "...    ...       ...      ...           ...          ...    ...   \n",
       "1197  2010         1        1            13           86      3   \n",
       "1198  2010         1        1            13           87      3   \n",
       "1199  2010         1        1            13           88      3   \n",
       "1200  2010         1        1            13           89      3   \n",
       "1201  2010         1        1            13           90      3   \n",
       "\n",
       "      day_in_week_Fri  day_in_week_Mon  day_in_week_Sat  day_in_week_Sun  \\\n",
       "0               False            False             True            False   \n",
       "1               False            False            False             True   \n",
       "2               False             True            False            False   \n",
       "3               False            False            False            False   \n",
       "4               False            False            False            False   \n",
       "...               ...              ...              ...              ...   \n",
       "1197            False            False             True            False   \n",
       "1198            False            False            False             True   \n",
       "1199            False             True            False            False   \n",
       "1200            False            False            False            False   \n",
       "1201            False            False            False            False   \n",
       "\n",
       "      day_in_week_Thu  day_in_week_Tue  day_in_week_Wed  \n",
       "0               False            False            False  \n",
       "1               False            False            False  \n",
       "2               False            False            False  \n",
       "3               False             True            False  \n",
       "4               False            False             True  \n",
       "...               ...              ...              ...  \n",
       "1197            False            False            False  \n",
       "1198            False            False            False  \n",
       "1199            False            False            False  \n",
       "1200            False             True            False  \n",
       "1201            False            False             True  \n",
       "\n",
       "[1202 rows x 13 columns]"
      ]
     },
     "execution_count": 15,
     "metadata": {},
     "output_type": "execute_result"
    }
   ],
   "source": [
    "X_test"
   ]
  },
  {
   "cell_type": "code",
   "execution_count": 16,
   "id": "cd31ab23",
   "metadata": {
    "execution": {
     "iopub.execute_input": "2025-01-09T11:35:36.878605Z",
     "iopub.status.busy": "2025-01-09T11:35:36.878258Z",
     "iopub.status.idle": "2025-01-09T11:35:36.886854Z",
     "shell.execute_reply": "2025-01-09T11:35:36.885822Z"
    },
    "papermill": {
     "duration": 0.019563,
     "end_time": "2025-01-09T11:35:36.889034",
     "exception": false,
     "start_time": "2025-01-09T11:35:36.869471",
     "status": "completed"
    },
    "tags": []
   },
   "outputs": [],
   "source": [
    "X_val, X_test, y_val, y_test = train_test_split(X_train, y_train, test_size=0.3, random_state=30)"
   ]
  },
  {
   "cell_type": "markdown",
   "id": "e5edfd6e",
   "metadata": {
    "papermill": {
     "duration": 0.014524,
     "end_time": "2025-01-09T11:35:36.918930",
     "exception": false,
     "start_time": "2025-01-09T11:35:36.904406",
     "status": "completed"
    },
    "tags": []
   },
   "source": [
    "## Normalizing the data"
   ]
  },
  {
   "cell_type": "code",
   "execution_count": 17,
   "id": "e73d782c",
   "metadata": {
    "execution": {
     "iopub.execute_input": "2025-01-09T11:35:36.942713Z",
     "iopub.status.busy": "2025-01-09T11:35:36.942360Z",
     "iopub.status.idle": "2025-01-09T11:35:36.959084Z",
     "shell.execute_reply": "2025-01-09T11:35:36.957867Z"
    },
    "papermill": {
     "duration": 0.028431,
     "end_time": "2025-01-09T11:35:36.961693",
     "exception": false,
     "start_time": "2025-01-09T11:35:36.933262",
     "status": "completed"
    },
    "tags": []
   },
   "outputs": [],
   "source": [
    "scaler = StandardScaler()\n",
    "X_train_norm = scaler.fit_transform(X_train)\n",
    "X_val_norm = scaler.transform(X_val)\n",
    "X_test_norm = scaler.transform(X_test)"
   ]
  },
  {
   "cell_type": "markdown",
   "id": "594f3390",
   "metadata": {
    "papermill": {
     "duration": 0.014092,
     "end_time": "2025-01-09T11:35:36.989939",
     "exception": false,
     "start_time": "2025-01-09T11:35:36.975847",
     "status": "completed"
    },
    "tags": []
   },
   "source": [
    "## Train the Model"
   ]
  },
  {
   "cell_type": "code",
   "execution_count": 18,
   "id": "53eedacf",
   "metadata": {
    "execution": {
     "iopub.execute_input": "2025-01-09T11:35:37.019875Z",
     "iopub.status.busy": "2025-01-09T11:35:37.019353Z",
     "iopub.status.idle": "2025-01-09T11:35:37.140097Z",
     "shell.execute_reply": "2025-01-09T11:35:37.138867Z"
    },
    "papermill": {
     "duration": 0.141692,
     "end_time": "2025-01-09T11:35:37.145935",
     "exception": false,
     "start_time": "2025-01-09T11:35:37.004243",
     "status": "completed"
    },
    "tags": []
   },
   "outputs": [
    {
     "data": {
      "text/html": [
       "<pre style=\"white-space:pre;overflow-x:auto;line-height:normal;font-family:Menlo,'DejaVu Sans Mono',consolas,'Courier New',monospace\"><span style=\"font-weight: bold\">Model: \"sequential\"</span>\n",
       "</pre>\n"
      ],
      "text/plain": [
       "\u001b[1mModel: \"sequential\"\u001b[0m\n"
      ]
     },
     "metadata": {},
     "output_type": "display_data"
    },
    {
     "data": {
      "text/html": [
       "<pre style=\"white-space:pre;overflow-x:auto;line-height:normal;font-family:Menlo,'DejaVu Sans Mono',consolas,'Courier New',monospace\">┏━━━━━━━━━━━━━━━━━━━━━━━━━━━━━━━━━━━━━━┳━━━━━━━━━━━━━━━━━━━━━━━━━━━━━┳━━━━━━━━━━━━━━━━━┓\n",
       "┃<span style=\"font-weight: bold\"> Layer (type)                         </span>┃<span style=\"font-weight: bold\"> Output Shape                </span>┃<span style=\"font-weight: bold\">         Param # </span>┃\n",
       "┡━━━━━━━━━━━━━━━━━━━━━━━━━━━━━━━━━━━━━━╇━━━━━━━━━━━━━━━━━━━━━━━━━━━━━╇━━━━━━━━━━━━━━━━━┩\n",
       "│ dense (<span style=\"color: #0087ff; text-decoration-color: #0087ff\">Dense</span>)                        │ (<span style=\"color: #00d7ff; text-decoration-color: #00d7ff\">None</span>, <span style=\"color: #00af00; text-decoration-color: #00af00\">100</span>)                 │           <span style=\"color: #00af00; text-decoration-color: #00af00\">1,400</span> │\n",
       "├──────────────────────────────────────┼─────────────────────────────┼─────────────────┤\n",
       "│ dense_1 (<span style=\"color: #0087ff; text-decoration-color: #0087ff\">Dense</span>)                      │ (<span style=\"color: #00d7ff; text-decoration-color: #00d7ff\">None</span>, <span style=\"color: #00af00; text-decoration-color: #00af00\">10</span>)                  │           <span style=\"color: #00af00; text-decoration-color: #00af00\">1,010</span> │\n",
       "├──────────────────────────────────────┼─────────────────────────────┼─────────────────┤\n",
       "│ dense_2 (<span style=\"color: #0087ff; text-decoration-color: #0087ff\">Dense</span>)                      │ (<span style=\"color: #00d7ff; text-decoration-color: #00d7ff\">None</span>, <span style=\"color: #00af00; text-decoration-color: #00af00\">1</span>)                   │              <span style=\"color: #00af00; text-decoration-color: #00af00\">11</span> │\n",
       "└──────────────────────────────────────┴─────────────────────────────┴─────────────────┘\n",
       "</pre>\n"
      ],
      "text/plain": [
       "┏━━━━━━━━━━━━━━━━━━━━━━━━━━━━━━━━━━━━━━┳━━━━━━━━━━━━━━━━━━━━━━━━━━━━━┳━━━━━━━━━━━━━━━━━┓\n",
       "┃\u001b[1m \u001b[0m\u001b[1mLayer (type)                        \u001b[0m\u001b[1m \u001b[0m┃\u001b[1m \u001b[0m\u001b[1mOutput Shape               \u001b[0m\u001b[1m \u001b[0m┃\u001b[1m \u001b[0m\u001b[1m        Param #\u001b[0m\u001b[1m \u001b[0m┃\n",
       "┡━━━━━━━━━━━━━━━━━━━━━━━━━━━━━━━━━━━━━━╇━━━━━━━━━━━━━━━━━━━━━━━━━━━━━╇━━━━━━━━━━━━━━━━━┩\n",
       "│ dense (\u001b[38;5;33mDense\u001b[0m)                        │ (\u001b[38;5;45mNone\u001b[0m, \u001b[38;5;34m100\u001b[0m)                 │           \u001b[38;5;34m1,400\u001b[0m │\n",
       "├──────────────────────────────────────┼─────────────────────────────┼─────────────────┤\n",
       "│ dense_1 (\u001b[38;5;33mDense\u001b[0m)                      │ (\u001b[38;5;45mNone\u001b[0m, \u001b[38;5;34m10\u001b[0m)                  │           \u001b[38;5;34m1,010\u001b[0m │\n",
       "├──────────────────────────────────────┼─────────────────────────────┼─────────────────┤\n",
       "│ dense_2 (\u001b[38;5;33mDense\u001b[0m)                      │ (\u001b[38;5;45mNone\u001b[0m, \u001b[38;5;34m1\u001b[0m)                   │              \u001b[38;5;34m11\u001b[0m │\n",
       "└──────────────────────────────────────┴─────────────────────────────┴─────────────────┘\n"
      ]
     },
     "metadata": {},
     "output_type": "display_data"
    },
    {
     "data": {
      "text/html": [
       "<pre style=\"white-space:pre;overflow-x:auto;line-height:normal;font-family:Menlo,'DejaVu Sans Mono',consolas,'Courier New',monospace\"><span style=\"font-weight: bold\"> Total params: </span><span style=\"color: #00af00; text-decoration-color: #00af00\">2,421</span> (9.46 KB)\n",
       "</pre>\n"
      ],
      "text/plain": [
       "\u001b[1m Total params: \u001b[0m\u001b[38;5;34m2,421\u001b[0m (9.46 KB)\n"
      ]
     },
     "metadata": {},
     "output_type": "display_data"
    },
    {
     "data": {
      "text/html": [
       "<pre style=\"white-space:pre;overflow-x:auto;line-height:normal;font-family:Menlo,'DejaVu Sans Mono',consolas,'Courier New',monospace\"><span style=\"font-weight: bold\"> Trainable params: </span><span style=\"color: #00af00; text-decoration-color: #00af00\">2,421</span> (9.46 KB)\n",
       "</pre>\n"
      ],
      "text/plain": [
       "\u001b[1m Trainable params: \u001b[0m\u001b[38;5;34m2,421\u001b[0m (9.46 KB)\n"
      ]
     },
     "metadata": {},
     "output_type": "display_data"
    },
    {
     "data": {
      "text/html": [
       "<pre style=\"white-space:pre;overflow-x:auto;line-height:normal;font-family:Menlo,'DejaVu Sans Mono',consolas,'Courier New',monospace\"><span style=\"font-weight: bold\"> Non-trainable params: </span><span style=\"color: #00af00; text-decoration-color: #00af00\">0</span> (0.00 B)\n",
       "</pre>\n"
      ],
      "text/plain": [
       "\u001b[1m Non-trainable params: \u001b[0m\u001b[38;5;34m0\u001b[0m (0.00 B)\n"
      ]
     },
     "metadata": {},
     "output_type": "display_data"
    }
   ],
   "source": [
    "from keras.models import Sequential\n",
    "from keras.layers import Dense, Input\n",
    "from keras.initializers import glorot_uniform\n",
    "\n",
    "# Define the model\n",
    "model = Sequential()\n",
    "\n",
    "# Add the input layer with specified shape\n",
    "model.add(Input(shape=(X_train_norm.shape[1],)))\n",
    "\n",
    "# Add Dense layers with Xavier initialization\n",
    "model.add(Dense(100, activation='relu', kernel_initializer=glorot_uniform()))\n",
    "model.add(Dense(10, activation='relu', kernel_initializer=glorot_uniform()))\n",
    "\n",
    "# Output layer (typically doesn't require Xavier initialization)\n",
    "model.add(Dense(1, activation='linear', kernel_initializer=glorot_uniform()))\n",
    "\n",
    "# Print model summary\n",
    "model.summary()\n"
   ]
  },
  {
   "cell_type": "code",
   "execution_count": 19,
   "id": "7e090389",
   "metadata": {
    "execution": {
     "iopub.execute_input": "2025-01-09T11:35:37.166915Z",
     "iopub.status.busy": "2025-01-09T11:35:37.166506Z",
     "iopub.status.idle": "2025-01-09T11:35:37.181821Z",
     "shell.execute_reply": "2025-01-09T11:35:37.180657Z"
    },
    "papermill": {
     "duration": 0.027611,
     "end_time": "2025-01-09T11:35:37.184379",
     "exception": false,
     "start_time": "2025-01-09T11:35:37.156768",
     "status": "completed"
    },
    "tags": []
   },
   "outputs": [],
   "source": [
    "# Compile the model\n",
    "model.compile(optimizer='adam', loss='mse', metrics=['mae'])\n",
    "\n",
    "# Define early stopping\n",
    "early_stopping = EarlyStopping(monitor='val_loss', patience=5, restore_best_weights=True)"
   ]
  },
  {
   "cell_type": "code",
   "execution_count": 20,
   "id": "adc22da9",
   "metadata": {
    "execution": {
     "iopub.execute_input": "2025-01-09T11:35:37.211597Z",
     "iopub.status.busy": "2025-01-09T11:35:37.211091Z",
     "iopub.status.idle": "2025-01-09T11:35:37.218881Z",
     "shell.execute_reply": "2025-01-09T11:35:37.217827Z"
    },
    "papermill": {
     "duration": 0.02059,
     "end_time": "2025-01-09T11:35:37.220946",
     "exception": false,
     "start_time": "2025-01-09T11:35:37.200356",
     "status": "completed"
    },
    "tags": []
   },
   "outputs": [],
   "source": [
    "# Ensure all data types are correct\n",
    "X_train_norm = X_train_norm.astype(float)\n",
    "X_val_morm = X_val_norm.astype(float)\n",
    "X_test_morm = X_test_norm.astype(float)\n",
    "y_train = y_train.astype(float)\n",
    "y_val = y_val.astype(float)\n",
    "y_test = y_test.astype(float)\n"
   ]
  },
  {
   "cell_type": "code",
   "execution_count": 21,
   "id": "af61fa67",
   "metadata": {
    "execution": {
     "iopub.execute_input": "2025-01-09T11:35:37.253859Z",
     "iopub.status.busy": "2025-01-09T11:35:37.253407Z",
     "iopub.status.idle": "2025-01-09T11:39:36.547257Z",
     "shell.execute_reply": "2025-01-09T11:39:36.546115Z"
    },
    "papermill": {
     "duration": 239.312081,
     "end_time": "2025-01-09T11:39:36.549014",
     "exception": false,
     "start_time": "2025-01-09T11:35:37.236933",
     "status": "completed"
    },
    "tags": []
   },
   "outputs": [
    {
     "name": "stdout",
     "output_type": "stream",
     "text": [
      "Epoch 1/100\n",
      "\u001b[1m1202/1202\u001b[0m \u001b[32m━━━━━━━━━━━━━━━━━━━━\u001b[0m\u001b[37m\u001b[0m \u001b[1m4s\u001b[0m 2ms/step - loss: 2572061.2500 - mae: 1469.2012 - val_loss: 306599.9688 - val_mae: 416.8645\n",
      "Epoch 2/100\n",
      "\u001b[1m1202/1202\u001b[0m \u001b[32m━━━━━━━━━━━━━━━━━━━━\u001b[0m\u001b[37m\u001b[0m \u001b[1m2s\u001b[0m 2ms/step - loss: 278357.3125 - mae: 383.5056 - val_loss: 235346.5000 - val_mae: 352.1549\n",
      "Epoch 3/100\n",
      "\u001b[1m1202/1202\u001b[0m \u001b[32m━━━━━━━━━━━━━━━━━━━━\u001b[0m\u001b[37m\u001b[0m \u001b[1m2s\u001b[0m 2ms/step - loss: 258774.7656 - mae: 368.1149 - val_loss: 229891.2500 - val_mae: 347.4607\n",
      "Epoch 4/100\n",
      "\u001b[1m1202/1202\u001b[0m \u001b[32m━━━━━━━━━━━━━━━━━━━━\u001b[0m\u001b[37m\u001b[0m \u001b[1m2s\u001b[0m 2ms/step - loss: 230557.3125 - mae: 353.1695 - val_loss: 228100.4844 - val_mae: 345.3326\n",
      "Epoch 5/100\n",
      "\u001b[1m1202/1202\u001b[0m \u001b[32m━━━━━━━━━━━━━━━━━━━━\u001b[0m\u001b[37m\u001b[0m \u001b[1m2s\u001b[0m 2ms/step - loss: 207614.9062 - mae: 329.0926 - val_loss: 225893.2344 - val_mae: 344.4142\n",
      "Epoch 6/100\n",
      "\u001b[1m1202/1202\u001b[0m \u001b[32m━━━━━━━━━━━━━━━━━━━━\u001b[0m\u001b[37m\u001b[0m \u001b[1m2s\u001b[0m 2ms/step - loss: 234497.7969 - mae: 351.4287 - val_loss: 225159.6094 - val_mae: 342.9078\n",
      "Epoch 7/100\n",
      "\u001b[1m1202/1202\u001b[0m \u001b[32m━━━━━━━━━━━━━━━━━━━━\u001b[0m\u001b[37m\u001b[0m \u001b[1m2s\u001b[0m 2ms/step - loss: 241694.2344 - mae: 359.3936 - val_loss: 224318.9531 - val_mae: 342.9558\n",
      "Epoch 8/100\n",
      "\u001b[1m1202/1202\u001b[0m \u001b[32m━━━━━━━━━━━━━━━━━━━━\u001b[0m\u001b[37m\u001b[0m \u001b[1m2s\u001b[0m 2ms/step - loss: 242283.3906 - mae: 355.8891 - val_loss: 224413.3750 - val_mae: 343.7307\n",
      "Epoch 9/100\n",
      "\u001b[1m1202/1202\u001b[0m \u001b[32m━━━━━━━━━━━━━━━━━━━━\u001b[0m\u001b[37m\u001b[0m \u001b[1m2s\u001b[0m 2ms/step - loss: 258379.9531 - mae: 375.8633 - val_loss: 223428.4062 - val_mae: 343.1804\n",
      "Epoch 10/100\n",
      "\u001b[1m1202/1202\u001b[0m \u001b[32m━━━━━━━━━━━━━━━━━━━━\u001b[0m\u001b[37m\u001b[0m \u001b[1m2s\u001b[0m 2ms/step - loss: 208212.5938 - mae: 333.4600 - val_loss: 222900.7344 - val_mae: 342.4032\n",
      "Epoch 11/100\n",
      "\u001b[1m1202/1202\u001b[0m \u001b[32m━━━━━━━━━━━━━━━━━━━━\u001b[0m\u001b[37m\u001b[0m \u001b[1m2s\u001b[0m 2ms/step - loss: 223924.4375 - mae: 343.0242 - val_loss: 222965.9219 - val_mae: 342.6964\n",
      "Epoch 12/100\n",
      "\u001b[1m1202/1202\u001b[0m \u001b[32m━━━━━━━━━━━━━━━━━━━━\u001b[0m\u001b[37m\u001b[0m \u001b[1m2s\u001b[0m 2ms/step - loss: 231254.1250 - mae: 353.9903 - val_loss: 224721.6562 - val_mae: 343.5799\n",
      "Epoch 13/100\n",
      "\u001b[1m1202/1202\u001b[0m \u001b[32m━━━━━━━━━━━━━━━━━━━━\u001b[0m\u001b[37m\u001b[0m \u001b[1m2s\u001b[0m 2ms/step - loss: 235400.7812 - mae: 354.9541 - val_loss: 222674.0000 - val_mae: 342.7403\n",
      "Epoch 14/100\n",
      "\u001b[1m1202/1202\u001b[0m \u001b[32m━━━━━━━━━━━━━━━━━━━━\u001b[0m\u001b[37m\u001b[0m \u001b[1m2s\u001b[0m 2ms/step - loss: 219269.4219 - mae: 341.8445 - val_loss: 221519.7656 - val_mae: 341.2302\n",
      "Epoch 15/100\n",
      "\u001b[1m1202/1202\u001b[0m \u001b[32m━━━━━━━━━━━━━━━━━━━━\u001b[0m\u001b[37m\u001b[0m \u001b[1m2s\u001b[0m 2ms/step - loss: 209506.1719 - mae: 333.8544 - val_loss: 221381.5938 - val_mae: 340.9969\n",
      "Epoch 16/100\n",
      "\u001b[1m1202/1202\u001b[0m \u001b[32m━━━━━━━━━━━━━━━━━━━━\u001b[0m\u001b[37m\u001b[0m \u001b[1m2s\u001b[0m 2ms/step - loss: 227940.2969 - mae: 349.5755 - val_loss: 223177.0156 - val_mae: 343.6001\n",
      "Epoch 17/100\n",
      "\u001b[1m1202/1202\u001b[0m \u001b[32m━━━━━━━━━━━━━━━━━━━━\u001b[0m\u001b[37m\u001b[0m \u001b[1m2s\u001b[0m 2ms/step - loss: 207545.8594 - mae: 336.8976 - val_loss: 225526.6250 - val_mae: 345.9667\n",
      "Epoch 18/100\n",
      "\u001b[1m1202/1202\u001b[0m \u001b[32m━━━━━━━━━━━━━━━━━━━━\u001b[0m\u001b[37m\u001b[0m \u001b[1m2s\u001b[0m 2ms/step - loss: 221062.2969 - mae: 345.3667 - val_loss: 220829.4688 - val_mae: 340.5262\n",
      "Epoch 19/100\n",
      "\u001b[1m1202/1202\u001b[0m \u001b[32m━━━━━━━━━━━━━━━━━━━━\u001b[0m\u001b[37m\u001b[0m \u001b[1m2s\u001b[0m 2ms/step - loss: 241826.6250 - mae: 360.1295 - val_loss: 221578.3750 - val_mae: 341.4018\n",
      "Epoch 20/100\n",
      "\u001b[1m1202/1202\u001b[0m \u001b[32m━━━━━━━━━━━━━━━━━━━━\u001b[0m\u001b[37m\u001b[0m \u001b[1m2s\u001b[0m 2ms/step - loss: 242573.3594 - mae: 354.6645 - val_loss: 221047.9688 - val_mae: 341.2230\n",
      "Epoch 21/100\n",
      "\u001b[1m1202/1202\u001b[0m \u001b[32m━━━━━━━━━━━━━━━━━━━━\u001b[0m\u001b[37m\u001b[0m \u001b[1m2s\u001b[0m 2ms/step - loss: 214381.7500 - mae: 341.4948 - val_loss: 220609.2344 - val_mae: 340.7766\n",
      "Epoch 22/100\n",
      "\u001b[1m1202/1202\u001b[0m \u001b[32m━━━━━━━━━━━━━━━━━━━━\u001b[0m\u001b[37m\u001b[0m \u001b[1m2s\u001b[0m 2ms/step - loss: 238205.8438 - mae: 357.8683 - val_loss: 220998.6719 - val_mae: 341.2572\n",
      "Epoch 23/100\n",
      "\u001b[1m1202/1202\u001b[0m \u001b[32m━━━━━━━━━━━━━━━━━━━━\u001b[0m\u001b[37m\u001b[0m \u001b[1m2s\u001b[0m 2ms/step - loss: 230030.1875 - mae: 345.7796 - val_loss: 222254.6719 - val_mae: 342.8010\n",
      "Epoch 24/100\n",
      "\u001b[1m1202/1202\u001b[0m \u001b[32m━━━━━━━━━━━━━━━━━━━━\u001b[0m\u001b[37m\u001b[0m \u001b[1m2s\u001b[0m 2ms/step - loss: 211571.1406 - mae: 334.1991 - val_loss: 221986.2812 - val_mae: 342.6947\n",
      "Epoch 25/100\n",
      "\u001b[1m1202/1202\u001b[0m \u001b[32m━━━━━━━━━━━━━━━━━━━━\u001b[0m\u001b[37m\u001b[0m \u001b[1m2s\u001b[0m 2ms/step - loss: 224431.2344 - mae: 351.2233 - val_loss: 219886.9375 - val_mae: 340.0439\n",
      "Epoch 26/100\n",
      "\u001b[1m1202/1202\u001b[0m \u001b[32m━━━━━━━━━━━━━━━━━━━━\u001b[0m\u001b[37m\u001b[0m \u001b[1m2s\u001b[0m 2ms/step - loss: 215294.4688 - mae: 339.1320 - val_loss: 221092.4375 - val_mae: 341.1594\n",
      "Epoch 27/100\n",
      "\u001b[1m1202/1202\u001b[0m \u001b[32m━━━━━━━━━━━━━━━━━━━━\u001b[0m\u001b[37m\u001b[0m \u001b[1m2s\u001b[0m 2ms/step - loss: 227158.3125 - mae: 346.7743 - val_loss: 219271.9688 - val_mae: 338.9382\n",
      "Epoch 28/100\n",
      "\u001b[1m1202/1202\u001b[0m \u001b[32m━━━━━━━━━━━━━━━━━━━━\u001b[0m\u001b[37m\u001b[0m \u001b[1m2s\u001b[0m 2ms/step - loss: 203818.4688 - mae: 328.5182 - val_loss: 227060.9688 - val_mae: 347.4253\n",
      "Epoch 29/100\n",
      "\u001b[1m1202/1202\u001b[0m \u001b[32m━━━━━━━━━━━━━━━━━━━━\u001b[0m\u001b[37m\u001b[0m \u001b[1m2s\u001b[0m 2ms/step - loss: 235909.7656 - mae: 357.7123 - val_loss: 219980.0000 - val_mae: 339.3327\n",
      "Epoch 30/100\n",
      "\u001b[1m1202/1202\u001b[0m \u001b[32m━━━━━━━━━━━━━━━━━━━━\u001b[0m\u001b[37m\u001b[0m \u001b[1m2s\u001b[0m 2ms/step - loss: 239134.1719 - mae: 352.4944 - val_loss: 219289.1094 - val_mae: 339.4550\n",
      "Epoch 31/100\n",
      "\u001b[1m1202/1202\u001b[0m \u001b[32m━━━━━━━━━━━━━━━━━━━━\u001b[0m\u001b[37m\u001b[0m \u001b[1m2s\u001b[0m 2ms/step - loss: 256997.0156 - mae: 362.9024 - val_loss: 220611.3125 - val_mae: 341.1521\n",
      "Epoch 32/100\n",
      "\u001b[1m1202/1202\u001b[0m \u001b[32m━━━━━━━━━━━━━━━━━━━━\u001b[0m\u001b[37m\u001b[0m \u001b[1m2s\u001b[0m 2ms/step - loss: 214285.6094 - mae: 337.8296 - val_loss: 220931.2188 - val_mae: 341.1479\n",
      "Epoch 33/100\n",
      "\u001b[1m1202/1202\u001b[0m \u001b[32m━━━━━━━━━━━━━━━━━━━━\u001b[0m\u001b[37m\u001b[0m \u001b[1m2s\u001b[0m 2ms/step - loss: 222480.6094 - mae: 345.3886 - val_loss: 219334.5312 - val_mae: 338.6953\n",
      "Epoch 34/100\n",
      "\u001b[1m1202/1202\u001b[0m \u001b[32m━━━━━━━━━━━━━━━━━━━━\u001b[0m\u001b[37m\u001b[0m \u001b[1m2s\u001b[0m 2ms/step - loss: 229989.0781 - mae: 351.9760 - val_loss: 219807.6719 - val_mae: 340.2807\n",
      "Epoch 35/100\n",
      "\u001b[1m1202/1202\u001b[0m \u001b[32m━━━━━━━━━━━━━━━━━━━━\u001b[0m\u001b[37m\u001b[0m \u001b[1m2s\u001b[0m 2ms/step - loss: 233489.0156 - mae: 356.8505 - val_loss: 221180.8594 - val_mae: 341.4641\n",
      "Epoch 36/100\n",
      "\u001b[1m1202/1202\u001b[0m \u001b[32m━━━━━━━━━━━━━━━━━━━━\u001b[0m\u001b[37m\u001b[0m \u001b[1m2s\u001b[0m 2ms/step - loss: 198508.5469 - mae: 328.5829 - val_loss: 218875.1250 - val_mae: 339.1348\n",
      "Epoch 37/100\n",
      "\u001b[1m1202/1202\u001b[0m \u001b[32m━━━━━━━━━━━━━━━━━━━━\u001b[0m\u001b[37m\u001b[0m \u001b[1m2s\u001b[0m 2ms/step - loss: 221456.2031 - mae: 340.3489 - val_loss: 220138.9062 - val_mae: 340.8827\n",
      "Epoch 38/100\n",
      "\u001b[1m1202/1202\u001b[0m \u001b[32m━━━━━━━━━━━━━━━━━━━━\u001b[0m\u001b[37m\u001b[0m \u001b[1m2s\u001b[0m 2ms/step - loss: 221463.3281 - mae: 350.7753 - val_loss: 218185.1719 - val_mae: 338.2000\n",
      "Epoch 39/100\n",
      "\u001b[1m1202/1202\u001b[0m \u001b[32m━━━━━━━━━━━━━━━━━━━━\u001b[0m\u001b[37m\u001b[0m \u001b[1m2s\u001b[0m 2ms/step - loss: 239918.0625 - mae: 353.7833 - val_loss: 218733.4062 - val_mae: 338.9317\n",
      "Epoch 40/100\n",
      "\u001b[1m1202/1202\u001b[0m \u001b[32m━━━━━━━━━━━━━━━━━━━━\u001b[0m\u001b[37m\u001b[0m \u001b[1m2s\u001b[0m 2ms/step - loss: 229532.1562 - mae: 342.3519 - val_loss: 221443.1562 - val_mae: 342.5202\n",
      "Epoch 41/100\n",
      "\u001b[1m1202/1202\u001b[0m \u001b[32m━━━━━━━━━━━━━━━━━━━━\u001b[0m\u001b[37m\u001b[0m \u001b[1m3s\u001b[0m 2ms/step - loss: 230009.9688 - mae: 349.1075 - val_loss: 220088.3906 - val_mae: 340.8602\n",
      "Epoch 42/100\n",
      "\u001b[1m1202/1202\u001b[0m \u001b[32m━━━━━━━━━━━━━━━━━━━━\u001b[0m\u001b[37m\u001b[0m \u001b[1m2s\u001b[0m 2ms/step - loss: 196786.6719 - mae: 321.9236 - val_loss: 218188.2344 - val_mae: 338.5696\n",
      "Epoch 43/100\n",
      "\u001b[1m1202/1202\u001b[0m \u001b[32m━━━━━━━━━━━━━━━━━━━━\u001b[0m\u001b[37m\u001b[0m \u001b[1m2s\u001b[0m 2ms/step - loss: 236047.2031 - mae: 351.9652 - val_loss: 217824.2969 - val_mae: 337.8009\n",
      "Epoch 44/100\n",
      "\u001b[1m1202/1202\u001b[0m \u001b[32m━━━━━━━━━━━━━━━━━━━━\u001b[0m\u001b[37m\u001b[0m \u001b[1m2s\u001b[0m 2ms/step - loss: 231599.2656 - mae: 351.2660 - val_loss: 218973.8906 - val_mae: 339.0474\n",
      "Epoch 45/100\n",
      "\u001b[1m1202/1202\u001b[0m \u001b[32m━━━━━━━━━━━━━━━━━━━━\u001b[0m\u001b[37m\u001b[0m \u001b[1m2s\u001b[0m 2ms/step - loss: 248110.3125 - mae: 354.3798 - val_loss: 217220.2031 - val_mae: 337.3170\n",
      "Epoch 46/100\n",
      "\u001b[1m1202/1202\u001b[0m \u001b[32m━━━━━━━━━━━━━━━━━━━━\u001b[0m\u001b[37m\u001b[0m \u001b[1m2s\u001b[0m 2ms/step - loss: 217612.9688 - mae: 335.6866 - val_loss: 217485.2344 - val_mae: 336.9350\n",
      "Epoch 47/100\n",
      "\u001b[1m1202/1202\u001b[0m \u001b[32m━━━━━━━━━━━━━━━━━━━━\u001b[0m\u001b[37m\u001b[0m \u001b[1m2s\u001b[0m 2ms/step - loss: 232646.6094 - mae: 350.4269 - val_loss: 217258.8438 - val_mae: 336.9889\n",
      "Epoch 48/100\n",
      "\u001b[1m1202/1202\u001b[0m \u001b[32m━━━━━━━━━━━━━━━━━━━━\u001b[0m\u001b[37m\u001b[0m \u001b[1m2s\u001b[0m 2ms/step - loss: 229340.8906 - mae: 344.6861 - val_loss: 216904.6875 - val_mae: 336.3214\n",
      "Epoch 49/100\n",
      "\u001b[1m1202/1202\u001b[0m \u001b[32m━━━━━━━━━━━━━━━━━━━━\u001b[0m\u001b[37m\u001b[0m \u001b[1m2s\u001b[0m 2ms/step - loss: 224612.8125 - mae: 349.6207 - val_loss: 218624.0938 - val_mae: 339.3318\n",
      "Epoch 50/100\n",
      "\u001b[1m1202/1202\u001b[0m \u001b[32m━━━━━━━━━━━━━━━━━━━━\u001b[0m\u001b[37m\u001b[0m \u001b[1m2s\u001b[0m 2ms/step - loss: 230110.0469 - mae: 345.3150 - val_loss: 216562.6094 - val_mae: 336.5989\n",
      "Epoch 51/100\n",
      "\u001b[1m1202/1202\u001b[0m \u001b[32m━━━━━━━━━━━━━━━━━━━━\u001b[0m\u001b[37m\u001b[0m \u001b[1m2s\u001b[0m 2ms/step - loss: 204623.2188 - mae: 326.3991 - val_loss: 217122.4375 - val_mae: 337.4789\n",
      "Epoch 52/100\n",
      "\u001b[1m1202/1202\u001b[0m \u001b[32m━━━━━━━━━━━━━━━━━━━━\u001b[0m\u001b[37m\u001b[0m \u001b[1m2s\u001b[0m 2ms/step - loss: 223689.8906 - mae: 344.8323 - val_loss: 218875.0781 - val_mae: 339.9293\n",
      "Epoch 53/100\n",
      "\u001b[1m1202/1202\u001b[0m \u001b[32m━━━━━━━━━━━━━━━━━━━━\u001b[0m\u001b[37m\u001b[0m \u001b[1m2s\u001b[0m 2ms/step - loss: 225178.1875 - mae: 344.3354 - val_loss: 216739.0000 - val_mae: 336.7512\n",
      "Epoch 54/100\n",
      "\u001b[1m1202/1202\u001b[0m \u001b[32m━━━━━━━━━━━━━━━━━━━━\u001b[0m\u001b[37m\u001b[0m \u001b[1m2s\u001b[0m 2ms/step - loss: 237000.5938 - mae: 350.2616 - val_loss: 216007.0938 - val_mae: 336.1519\n",
      "Epoch 55/100\n",
      "\u001b[1m1202/1202\u001b[0m \u001b[32m━━━━━━━━━━━━━━━━━━━━\u001b[0m\u001b[37m\u001b[0m \u001b[1m2s\u001b[0m 2ms/step - loss: 228888.6406 - mae: 349.8552 - val_loss: 221424.6094 - val_mae: 342.5521\n",
      "Epoch 56/100\n",
      "\u001b[1m1202/1202\u001b[0m \u001b[32m━━━━━━━━━━━━━━━━━━━━\u001b[0m\u001b[37m\u001b[0m \u001b[1m2s\u001b[0m 2ms/step - loss: 201777.2969 - mae: 331.4521 - val_loss: 221814.0312 - val_mae: 342.8965\n",
      "Epoch 57/100\n",
      "\u001b[1m1202/1202\u001b[0m \u001b[32m━━━━━━━━━━━━━━━━━━━━\u001b[0m\u001b[37m\u001b[0m \u001b[1m2s\u001b[0m 2ms/step - loss: 237451.3125 - mae: 353.9292 - val_loss: 217578.7656 - val_mae: 337.6762\n",
      "Epoch 58/100\n",
      "\u001b[1m1202/1202\u001b[0m \u001b[32m━━━━━━━━━━━━━━━━━━━━\u001b[0m\u001b[37m\u001b[0m \u001b[1m2s\u001b[0m 2ms/step - loss: 214345.3281 - mae: 336.5307 - val_loss: 216060.8594 - val_mae: 335.9611\n",
      "Epoch 59/100\n",
      "\u001b[1m1202/1202\u001b[0m \u001b[32m━━━━━━━━━━━━━━━━━━━━\u001b[0m\u001b[37m\u001b[0m \u001b[1m2s\u001b[0m 2ms/step - loss: 229421.4219 - mae: 344.3461 - val_loss: 216236.9531 - val_mae: 336.1775\n",
      "Epoch 60/100\n",
      "\u001b[1m1202/1202\u001b[0m \u001b[32m━━━━━━━━━━━━━━━━━━━━\u001b[0m\u001b[37m\u001b[0m \u001b[1m3s\u001b[0m 2ms/step - loss: 227582.4844 - mae: 343.9111 - val_loss: 218687.9375 - val_mae: 339.7438\n",
      "Epoch 61/100\n",
      "\u001b[1m1202/1202\u001b[0m \u001b[32m━━━━━━━━━━━━━━━━━━━━\u001b[0m\u001b[37m\u001b[0m \u001b[1m2s\u001b[0m 2ms/step - loss: 217990.7812 - mae: 337.1949 - val_loss: 216381.0156 - val_mae: 336.4753\n",
      "Epoch 62/100\n",
      "\u001b[1m1202/1202\u001b[0m \u001b[32m━━━━━━━━━━━━━━━━━━━━\u001b[0m\u001b[37m\u001b[0m \u001b[1m2s\u001b[0m 2ms/step - loss: 202741.1875 - mae: 327.3088 - val_loss: 217694.5781 - val_mae: 337.4527\n",
      "Epoch 63/100\n",
      "\u001b[1m1202/1202\u001b[0m \u001b[32m━━━━━━━━━━━━━━━━━━━━\u001b[0m\u001b[37m\u001b[0m \u001b[1m2s\u001b[0m 2ms/step - loss: 236044.2656 - mae: 353.4105 - val_loss: 215803.2656 - val_mae: 336.3710\n",
      "Epoch 64/100\n",
      "\u001b[1m1202/1202\u001b[0m \u001b[32m━━━━━━━━━━━━━━━━━━━━\u001b[0m\u001b[37m\u001b[0m \u001b[1m2s\u001b[0m 2ms/step - loss: 233140.8750 - mae: 351.1371 - val_loss: 219889.0312 - val_mae: 341.2367\n",
      "Epoch 65/100\n",
      "\u001b[1m1202/1202\u001b[0m \u001b[32m━━━━━━━━━━━━━━━━━━━━\u001b[0m\u001b[37m\u001b[0m \u001b[1m2s\u001b[0m 2ms/step - loss: 219120.4062 - mae: 344.7724 - val_loss: 218579.4219 - val_mae: 340.0063\n",
      "Epoch 66/100\n",
      "\u001b[1m1202/1202\u001b[0m \u001b[32m━━━━━━━━━━━━━━━━━━━━\u001b[0m\u001b[37m\u001b[0m \u001b[1m3s\u001b[0m 2ms/step - loss: 208568.9062 - mae: 332.8601 - val_loss: 217324.8281 - val_mae: 337.9205\n",
      "Epoch 67/100\n",
      "\u001b[1m1202/1202\u001b[0m \u001b[32m━━━━━━━━━━━━━━━━━━━━\u001b[0m\u001b[37m\u001b[0m \u001b[1m2s\u001b[0m 2ms/step - loss: 200965.6406 - mae: 327.9266 - val_loss: 218110.0156 - val_mae: 339.4728\n",
      "Epoch 68/100\n",
      "\u001b[1m1202/1202\u001b[0m \u001b[32m━━━━━━━━━━━━━━━━━━━━\u001b[0m\u001b[37m\u001b[0m \u001b[1m3s\u001b[0m 2ms/step - loss: 219355.6406 - mae: 344.2651 - val_loss: 215863.9219 - val_mae: 336.6635\n",
      "Epoch 69/100\n",
      "\u001b[1m1202/1202\u001b[0m \u001b[32m━━━━━━━━━━━━━━━━━━━━\u001b[0m\u001b[37m\u001b[0m \u001b[1m2s\u001b[0m 2ms/step - loss: 257181.0938 - mae: 366.1909 - val_loss: 216371.3125 - val_mae: 336.9514\n",
      "Epoch 70/100\n",
      "\u001b[1m1202/1202\u001b[0m \u001b[32m━━━━━━━━━━━━━━━━━━━━\u001b[0m\u001b[37m\u001b[0m \u001b[1m2s\u001b[0m 2ms/step - loss: 234692.0781 - mae: 352.4520 - val_loss: 216273.4531 - val_mae: 335.7350\n",
      "Epoch 71/100\n",
      "\u001b[1m1202/1202\u001b[0m \u001b[32m━━━━━━━━━━━━━━━━━━━━\u001b[0m\u001b[37m\u001b[0m \u001b[1m2s\u001b[0m 2ms/step - loss: 218740.5625 - mae: 353.6557 - val_loss: 215071.7188 - val_mae: 335.3391\n",
      "Epoch 72/100\n",
      "\u001b[1m1202/1202\u001b[0m \u001b[32m━━━━━━━━━━━━━━━━━━━━\u001b[0m\u001b[37m\u001b[0m \u001b[1m2s\u001b[0m 2ms/step - loss: 227004.6406 - mae: 348.2834 - val_loss: 214959.1406 - val_mae: 335.2285\n",
      "Epoch 73/100\n",
      "\u001b[1m1202/1202\u001b[0m \u001b[32m━━━━━━━━━━━━━━━━━━━━\u001b[0m\u001b[37m\u001b[0m \u001b[1m2s\u001b[0m 2ms/step - loss: 222672.5312 - mae: 348.8090 - val_loss: 216255.1250 - val_mae: 336.8914\n",
      "Epoch 74/100\n",
      "\u001b[1m1202/1202\u001b[0m \u001b[32m━━━━━━━━━━━━━━━━━━━━\u001b[0m\u001b[37m\u001b[0m \u001b[1m2s\u001b[0m 2ms/step - loss: 204017.9844 - mae: 332.2117 - val_loss: 216402.3438 - val_mae: 337.0789\n",
      "Epoch 75/100\n",
      "\u001b[1m1202/1202\u001b[0m \u001b[32m━━━━━━━━━━━━━━━━━━━━\u001b[0m\u001b[37m\u001b[0m \u001b[1m2s\u001b[0m 2ms/step - loss: 239246.5156 - mae: 351.6090 - val_loss: 216919.0625 - val_mae: 337.2792\n",
      "Epoch 76/100\n",
      "\u001b[1m1202/1202\u001b[0m \u001b[32m━━━━━━━━━━━━━━━━━━━━\u001b[0m\u001b[37m\u001b[0m \u001b[1m2s\u001b[0m 2ms/step - loss: 223856.1094 - mae: 339.7907 - val_loss: 218124.4688 - val_mae: 339.7964\n",
      "Epoch 77/100\n",
      "\u001b[1m1202/1202\u001b[0m \u001b[32m━━━━━━━━━━━━━━━━━━━━\u001b[0m\u001b[37m\u001b[0m \u001b[1m2s\u001b[0m 2ms/step - loss: 208859.1094 - mae: 326.6791 - val_loss: 214597.1719 - val_mae: 335.2940\n",
      "Epoch 78/100\n",
      "\u001b[1m1202/1202\u001b[0m \u001b[32m━━━━━━━━━━━━━━━━━━━━\u001b[0m\u001b[37m\u001b[0m \u001b[1m3s\u001b[0m 2ms/step - loss: 229337.2812 - mae: 342.0484 - val_loss: 217276.0469 - val_mae: 338.4282\n",
      "Epoch 79/100\n",
      "\u001b[1m1202/1202\u001b[0m \u001b[32m━━━━━━━━━━━━━━━━━━━━\u001b[0m\u001b[37m\u001b[0m \u001b[1m2s\u001b[0m 2ms/step - loss: 206346.2812 - mae: 331.8120 - val_loss: 213798.5469 - val_mae: 333.9976\n",
      "Epoch 80/100\n",
      "\u001b[1m1202/1202\u001b[0m \u001b[32m━━━━━━━━━━━━━━━━━━━━\u001b[0m\u001b[37m\u001b[0m \u001b[1m2s\u001b[0m 2ms/step - loss: 219305.4062 - mae: 343.3935 - val_loss: 213965.8750 - val_mae: 334.1377\n",
      "Epoch 81/100\n",
      "\u001b[1m1202/1202\u001b[0m \u001b[32m━━━━━━━━━━━━━━━━━━━━\u001b[0m\u001b[37m\u001b[0m \u001b[1m2s\u001b[0m 2ms/step - loss: 231139.9375 - mae: 349.1874 - val_loss: 214379.3438 - val_mae: 335.2976\n",
      "Epoch 82/100\n",
      "\u001b[1m1202/1202\u001b[0m \u001b[32m━━━━━━━━━━━━━━━━━━━━\u001b[0m\u001b[37m\u001b[0m \u001b[1m3s\u001b[0m 2ms/step - loss: 223817.7188 - mae: 348.6178 - val_loss: 214034.3906 - val_mae: 334.9322\n",
      "Epoch 83/100\n",
      "\u001b[1m1202/1202\u001b[0m \u001b[32m━━━━━━━━━━━━━━━━━━━━\u001b[0m\u001b[37m\u001b[0m \u001b[1m2s\u001b[0m 2ms/step - loss: 218974.3750 - mae: 342.8367 - val_loss: 215721.1719 - val_mae: 337.5346\n",
      "Epoch 84/100\n",
      "\u001b[1m1202/1202\u001b[0m \u001b[32m━━━━━━━━━━━━━━━━━━━━\u001b[0m\u001b[37m\u001b[0m \u001b[1m2s\u001b[0m 2ms/step - loss: 238559.6719 - mae: 358.4838 - val_loss: 214467.4844 - val_mae: 335.1416\n",
      "Epoch 85/100\n",
      "\u001b[1m1202/1202\u001b[0m \u001b[32m━━━━━━━━━━━━━━━━━━━━\u001b[0m\u001b[37m\u001b[0m \u001b[1m2s\u001b[0m 2ms/step - loss: 216884.2969 - mae: 335.4842 - val_loss: 215664.3438 - val_mae: 337.2049\n",
      "Epoch 86/100\n",
      "\u001b[1m1202/1202\u001b[0m \u001b[32m━━━━━━━━━━━━━━━━━━━━\u001b[0m\u001b[37m\u001b[0m \u001b[1m2s\u001b[0m 2ms/step - loss: 209073.4531 - mae: 334.4337 - val_loss: 215891.3750 - val_mae: 337.1220\n",
      "Epoch 87/100\n",
      "\u001b[1m1202/1202\u001b[0m \u001b[32m━━━━━━━━━━━━━━━━━━━━\u001b[0m\u001b[37m\u001b[0m \u001b[1m2s\u001b[0m 2ms/step - loss: 217109.2500 - mae: 340.6419 - val_loss: 213932.8750 - val_mae: 335.0251\n",
      "Epoch 88/100\n",
      "\u001b[1m1202/1202\u001b[0m \u001b[32m━━━━━━━━━━━━━━━━━━━━\u001b[0m\u001b[37m\u001b[0m \u001b[1m2s\u001b[0m 2ms/step - loss: 222874.8125 - mae: 347.3694 - val_loss: 214237.0469 - val_mae: 335.3913\n",
      "Epoch 89/100\n",
      "\u001b[1m1202/1202\u001b[0m \u001b[32m━━━━━━━━━━━━━━━━━━━━\u001b[0m\u001b[37m\u001b[0m \u001b[1m2s\u001b[0m 2ms/step - loss: 200283.8750 - mae: 327.7408 - val_loss: 214598.4375 - val_mae: 335.6124\n",
      "Epoch 90/100\n",
      "\u001b[1m1202/1202\u001b[0m \u001b[32m━━━━━━━━━━━━━━━━━━━━\u001b[0m\u001b[37m\u001b[0m \u001b[1m2s\u001b[0m 2ms/step - loss: 235279.1562 - mae: 344.1006 - val_loss: 213329.8438 - val_mae: 334.2697\n",
      "Epoch 91/100\n",
      "\u001b[1m1202/1202\u001b[0m \u001b[32m━━━━━━━━━━━━━━━━━━━━\u001b[0m\u001b[37m\u001b[0m \u001b[1m2s\u001b[0m 2ms/step - loss: 203032.9844 - mae: 332.6530 - val_loss: 214162.6250 - val_mae: 334.7106\n",
      "Epoch 92/100\n",
      "\u001b[1m1202/1202\u001b[0m \u001b[32m━━━━━━━━━━━━━━━━━━━━\u001b[0m\u001b[37m\u001b[0m \u001b[1m3s\u001b[0m 2ms/step - loss: 232726.1719 - mae: 348.8589 - val_loss: 213190.5312 - val_mae: 334.1543\n",
      "Epoch 93/100\n",
      "\u001b[1m1202/1202\u001b[0m \u001b[32m━━━━━━━━━━━━━━━━━━━━\u001b[0m\u001b[37m\u001b[0m \u001b[1m2s\u001b[0m 2ms/step - loss: 214926.5625 - mae: 334.7194 - val_loss: 214652.4062 - val_mae: 335.6726\n",
      "Epoch 94/100\n",
      "\u001b[1m1202/1202\u001b[0m \u001b[32m━━━━━━━━━━━━━━━━━━━━\u001b[0m\u001b[37m\u001b[0m \u001b[1m2s\u001b[0m 2ms/step - loss: 231789.3125 - mae: 349.5574 - val_loss: 214740.0469 - val_mae: 335.3135\n",
      "Epoch 95/100\n",
      "\u001b[1m1202/1202\u001b[0m \u001b[32m━━━━━━━━━━━━━━━━━━━━\u001b[0m\u001b[37m\u001b[0m \u001b[1m3s\u001b[0m 2ms/step - loss: 213451.0781 - mae: 337.2260 - val_loss: 215040.0156 - val_mae: 336.0425\n",
      "Epoch 96/100\n",
      "\u001b[1m1202/1202\u001b[0m \u001b[32m━━━━━━━━━━━━━━━━━━━━\u001b[0m\u001b[37m\u001b[0m \u001b[1m2s\u001b[0m 2ms/step - loss: 228453.7656 - mae: 352.6484 - val_loss: 212882.1562 - val_mae: 333.6709\n",
      "Epoch 97/100\n",
      "\u001b[1m1202/1202\u001b[0m \u001b[32m━━━━━━━━━━━━━━━━━━━━\u001b[0m\u001b[37m\u001b[0m \u001b[1m2s\u001b[0m 2ms/step - loss: 214555.6250 - mae: 332.0074 - val_loss: 213945.1094 - val_mae: 334.4684\n",
      "Epoch 98/100\n",
      "\u001b[1m1202/1202\u001b[0m \u001b[32m━━━━━━━━━━━━━━━━━━━━\u001b[0m\u001b[37m\u001b[0m \u001b[1m2s\u001b[0m 2ms/step - loss: 227643.0156 - mae: 345.5213 - val_loss: 212921.6094 - val_mae: 333.9990\n",
      "Epoch 99/100\n",
      "\u001b[1m1202/1202\u001b[0m \u001b[32m━━━━━━━━━━━━━━━━━━━━\u001b[0m\u001b[37m\u001b[0m \u001b[1m2s\u001b[0m 2ms/step - loss: 232958.6875 - mae: 351.3290 - val_loss: 213402.5938 - val_mae: 334.5988\n",
      "Epoch 100/100\n",
      "\u001b[1m1202/1202\u001b[0m \u001b[32m━━━━━━━━━━━━━━━━━━━━\u001b[0m\u001b[37m\u001b[0m \u001b[1m2s\u001b[0m 2ms/step - loss: 222908.5156 - mae: 343.3058 - val_loss: 212996.2656 - val_mae: 334.0533\n"
     ]
    }
   ],
   "source": [
    "history = model.fit(X_train_norm, y_train, epochs=100, verbose=1, validation_data=(X_val_norm, y_val),batch_size=1)"
   ]
  },
  {
   "cell_type": "code",
   "execution_count": 22,
   "id": "51a63af0",
   "metadata": {
    "execution": {
     "iopub.execute_input": "2025-01-09T11:39:36.930321Z",
     "iopub.status.busy": "2025-01-09T11:39:36.929937Z",
     "iopub.status.idle": "2025-01-09T11:39:37.564978Z",
     "shell.execute_reply": "2025-01-09T11:39:37.563861Z"
    },
    "papermill": {
     "duration": 0.826478,
     "end_time": "2025-01-09T11:39:37.566804",
     "exception": false,
     "start_time": "2025-01-09T11:39:36.740326",
     "status": "completed"
    },
    "tags": []
   },
   "outputs": [
    {
     "name": "stdout",
     "output_type": "stream",
     "text": [
      "\u001b[1m12/12\u001b[0m \u001b[32m━━━━━━━━━━━━━━━━━━━━\u001b[0m\u001b[37m\u001b[0m \u001b[1m0s\u001b[0m 1ms/step - loss: 255254.6719 - mae: 363.7308  \n",
      "Mean Absolute Error: 347.5099182128906\n"
     ]
    },
    {
     "data": {
      "image/png": "[encoded data removed]",
      "text/plain": [
       "<Figure size 1400x700 with 1 Axes>"
      ]
     },
     "metadata": {},
     "output_type": "display_data"
    }
   ],
   "source": [
    "# Evaluate the model\n",
    "loss, mae = model.evaluate(X_test_norm, y_test)\n",
    "print(f\"Mean Absolute Error: {mae}\")\n",
    "\n",
    "plt.figure(figsize=(14, 7))\n",
    "plt.plot(history.history['loss'], label='Training Loss')\n",
    "plt.plot(history.history['val_loss'], label='Validation Loss')\n",
    "plt.xlabel('Epochs')\n",
    "plt.ylabel('Loss')\n",
    "plt.title('Training and Validation Loss')\n",
    "plt.legend()\n",
    "plt.show()"
   ]
  },
  {
   "cell_type": "code",
   "execution_count": 23,
   "id": "af46e35b",
   "metadata": {
    "execution": {
     "iopub.execute_input": "2025-01-09T11:39:37.942463Z",
     "iopub.status.busy": "2025-01-09T11:39:37.942051Z",
     "iopub.status.idle": "2025-01-09T11:39:38.116793Z",
     "shell.execute_reply": "2025-01-09T11:39:38.115701Z"
    },
    "papermill": {
     "duration": 0.363867,
     "end_time": "2025-01-09T11:39:38.118713",
     "exception": false,
     "start_time": "2025-01-09T11:39:37.754846",
     "status": "completed"
    },
    "tags": []
   },
   "outputs": [
    {
     "name": "stdout",
     "output_type": "stream",
     "text": [
      "\u001b[1m12/12\u001b[0m \u001b[32m━━━━━━━━━━━━━━━━━━━━\u001b[0m\u001b[37m\u001b[0m \u001b[1m0s\u001b[0m 4ms/step \n"
     ]
    }
   ],
   "source": [
    "# Predict the Concrete Compressive Strength for the test dataset \n",
    "y_pred = model.predict(X_test_norm)\n",
    "\n",
    "\n",
    "# Mean Squared Error (MSE)\n",
    "mse = mean_squared_error(y_test, y_pred)\n",
    "\n",
    "# R-squared\n",
    "r2 = r2_score(y_test, y_pred)"
   ]
  },
  {
   "cell_type": "code",
   "execution_count": 24,
   "id": "1090853a",
   "metadata": {
    "execution": {
     "iopub.execute_input": "2025-01-09T11:39:38.501932Z",
     "iopub.status.busy": "2025-01-09T11:39:38.501480Z",
     "iopub.status.idle": "2025-01-09T11:39:38.507363Z",
     "shell.execute_reply": "2025-01-09T11:39:38.506370Z"
    },
    "papermill": {
     "duration": 0.199669,
     "end_time": "2025-01-09T11:39:38.509003",
     "exception": false,
     "start_time": "2025-01-09T11:39:38.309334",
     "status": "completed"
    },
    "tags": []
   },
   "outputs": [
    {
     "data": {
      "text/plain": [
       "0.41666622998117275"
      ]
     },
     "execution_count": 24,
     "metadata": {},
     "output_type": "execute_result"
    }
   ],
   "source": [
    "r2"
   ]
  },
  {
   "cell_type": "code",
   "execution_count": 25,
   "id": "9550808c",
   "metadata": {
    "execution": {
     "iopub.execute_input": "2025-01-09T11:39:38.956951Z",
     "iopub.status.busy": "2025-01-09T11:39:38.956568Z",
     "iopub.status.idle": "2025-01-09T11:39:38.995958Z",
     "shell.execute_reply": "2025-01-09T11:39:38.994831Z"
    },
    "papermill": {
     "duration": 0.296065,
     "end_time": "2025-01-09T11:39:38.997912",
     "exception": false,
     "start_time": "2025-01-09T11:39:38.701847",
     "status": "completed"
    },
    "tags": []
   },
   "outputs": [],
   "source": [
    "model.save('model-1.4.h5')"
   ]
  },
  {
   "cell_type": "code",
   "execution_count": null,
   "id": "8c30a223",
   "metadata": {
    "papermill": {
     "duration": 0.187892,
     "end_time": "2025-01-09T11:39:39.371699",
     "exception": false,
     "start_time": "2025-01-09T11:39:39.183807",
     "status": "completed"
    },
    "tags": []
   },
   "outputs": [],
   "source": []
  }
 ],
 "metadata": {
  "kaggle": {
   "accelerator": "none",
   "dataSources": [
    {
     "datasetId": 6452431,
     "sourceId": 10411636,
     "sourceType": "datasetVersion"
    }
   ],
   "dockerImageVersionId": 30822,
   "isGpuEnabled": false,
   "isInternetEnabled": true,
   "language": "python",
   "sourceType": "notebook"
  },
  "kernelspec": {
   "display_name": "Python 3",
   "language": "python",
   "name": "python3"
  },
  "language_info": {
   "codemirror_mode": {
    "name": "ipython",
    "version": 3
   },
   "file_extension": ".py",
   "mimetype": "text/x-python",
   "name": "python",
   "nbconvert_exporter": "python",
   "pygments_lexer": "ipython3",
   "version": "3.10.12"
  },
  "papermill": {
   "default_parameters": {},
   "duration": 258.488958,
   "end_time": "2025-01-09T11:39:41.185447",
   "environment_variables": {},
   "exception": null,
   "input_path": "__notebook__.ipynb",
   "output_path": "__notebook__.ipynb",
   "parameters": {},
   "start_time": "2025-01-09T11:35:22.696489",
   "version": "2.6.0"
  }
 },
 "nbformat": 4,
 "nbformat_minor": 5
}
